{
 "cells": [
  {
   "cell_type": "code",
   "execution_count": 1,
   "metadata": {},
   "outputs": [],
   "source": [
    "# Importing the necessary libraries\n",
    "import pandas as pd\n",
    "import seaborn as sns\n",
    "import matplotlib.pyplot as plt\n",
    "from sklearn.preprocessing import LabelEncoder, StandardScaler\n",
    "from sklearn.model_selection import train_test_split, GridSearchCV\n",
    "from sklearn.metrics import accuracy_score, classification_report, confusion_matrix"
   ]
  },
  {
   "cell_type": "code",
   "execution_count": 2,
   "metadata": {},
   "outputs": [],
   "source": [
    "import warnings\n",
    "warnings.filterwarnings('ignore')\n",
    "%matplotlib inline"
   ]
  },
  {
   "cell_type": "markdown",
   "metadata": {},
   "source": [
    "# Data"
   ]
  },
  {
   "cell_type": "markdown",
   "metadata": {},
   "source": [
    "### Importing Raw data "
   ]
  },
  {
   "cell_type": "code",
   "execution_count": 3,
   "metadata": {},
   "outputs": [
    {
     "ename": "FileNotFoundError",
     "evalue": "[Errno 2] No such file or directory: 'INX_Future_Inc_Employee_Performance.xls'",
     "output_type": "error",
     "traceback": [
      "\u001b[1;31m---------------------------------------------------------------------------\u001b[0m",
      "\u001b[1;31mFileNotFoundError\u001b[0m                         Traceback (most recent call last)",
      "Cell \u001b[1;32mIn[3], line 2\u001b[0m\n\u001b[0;32m      1\u001b[0m \u001b[38;5;66;03m# Importing the csv file\u001b[39;00m\n\u001b[1;32m----> 2\u001b[0m data \u001b[38;5;241m=\u001b[39m \u001b[43mpd\u001b[49m\u001b[38;5;241;43m.\u001b[39;49m\u001b[43mread_excel\u001b[49m\u001b[43m(\u001b[49m\u001b[38;5;124;43m'\u001b[39;49m\u001b[38;5;124;43mINX_Future_Inc_Employee_Performance.xls\u001b[39;49m\u001b[38;5;124;43m'\u001b[39;49m\u001b[43m)\u001b[49m\n",
      "File \u001b[1;32m~\\anaconda3\\lib\\site-packages\\pandas\\util\\_decorators.py:211\u001b[0m, in \u001b[0;36mdeprecate_kwarg.<locals>._deprecate_kwarg.<locals>.wrapper\u001b[1;34m(*args, **kwargs)\u001b[0m\n\u001b[0;32m    209\u001b[0m     \u001b[38;5;28;01melse\u001b[39;00m:\n\u001b[0;32m    210\u001b[0m         kwargs[new_arg_name] \u001b[38;5;241m=\u001b[39m new_arg_value\n\u001b[1;32m--> 211\u001b[0m \u001b[38;5;28;01mreturn\u001b[39;00m func(\u001b[38;5;241m*\u001b[39margs, \u001b[38;5;241m*\u001b[39m\u001b[38;5;241m*\u001b[39mkwargs)\n",
      "File \u001b[1;32m~\\anaconda3\\lib\\site-packages\\pandas\\util\\_decorators.py:331\u001b[0m, in \u001b[0;36mdeprecate_nonkeyword_arguments.<locals>.decorate.<locals>.wrapper\u001b[1;34m(*args, **kwargs)\u001b[0m\n\u001b[0;32m    325\u001b[0m \u001b[38;5;28;01mif\u001b[39;00m \u001b[38;5;28mlen\u001b[39m(args) \u001b[38;5;241m>\u001b[39m num_allow_args:\n\u001b[0;32m    326\u001b[0m     warnings\u001b[38;5;241m.\u001b[39mwarn(\n\u001b[0;32m    327\u001b[0m         msg\u001b[38;5;241m.\u001b[39mformat(arguments\u001b[38;5;241m=\u001b[39m_format_argument_list(allow_args)),\n\u001b[0;32m    328\u001b[0m         \u001b[38;5;167;01mFutureWarning\u001b[39;00m,\n\u001b[0;32m    329\u001b[0m         stacklevel\u001b[38;5;241m=\u001b[39mfind_stack_level(),\n\u001b[0;32m    330\u001b[0m     )\n\u001b[1;32m--> 331\u001b[0m \u001b[38;5;28;01mreturn\u001b[39;00m func(\u001b[38;5;241m*\u001b[39margs, \u001b[38;5;241m*\u001b[39m\u001b[38;5;241m*\u001b[39mkwargs)\n",
      "File \u001b[1;32m~\\anaconda3\\lib\\site-packages\\pandas\\io\\excel\\_base.py:482\u001b[0m, in \u001b[0;36mread_excel\u001b[1;34m(io, sheet_name, header, names, index_col, usecols, squeeze, dtype, engine, converters, true_values, false_values, skiprows, nrows, na_values, keep_default_na, na_filter, verbose, parse_dates, date_parser, thousands, decimal, comment, skipfooter, convert_float, mangle_dupe_cols, storage_options)\u001b[0m\n\u001b[0;32m    480\u001b[0m \u001b[38;5;28;01mif\u001b[39;00m \u001b[38;5;129;01mnot\u001b[39;00m \u001b[38;5;28misinstance\u001b[39m(io, ExcelFile):\n\u001b[0;32m    481\u001b[0m     should_close \u001b[38;5;241m=\u001b[39m \u001b[38;5;28;01mTrue\u001b[39;00m\n\u001b[1;32m--> 482\u001b[0m     io \u001b[38;5;241m=\u001b[39m \u001b[43mExcelFile\u001b[49m\u001b[43m(\u001b[49m\u001b[43mio\u001b[49m\u001b[43m,\u001b[49m\u001b[43m \u001b[49m\u001b[43mstorage_options\u001b[49m\u001b[38;5;241;43m=\u001b[39;49m\u001b[43mstorage_options\u001b[49m\u001b[43m,\u001b[49m\u001b[43m \u001b[49m\u001b[43mengine\u001b[49m\u001b[38;5;241;43m=\u001b[39;49m\u001b[43mengine\u001b[49m\u001b[43m)\u001b[49m\n\u001b[0;32m    483\u001b[0m \u001b[38;5;28;01melif\u001b[39;00m engine \u001b[38;5;129;01mand\u001b[39;00m engine \u001b[38;5;241m!=\u001b[39m io\u001b[38;5;241m.\u001b[39mengine:\n\u001b[0;32m    484\u001b[0m     \u001b[38;5;28;01mraise\u001b[39;00m \u001b[38;5;167;01mValueError\u001b[39;00m(\n\u001b[0;32m    485\u001b[0m         \u001b[38;5;124m\"\u001b[39m\u001b[38;5;124mEngine should not be specified when passing \u001b[39m\u001b[38;5;124m\"\u001b[39m\n\u001b[0;32m    486\u001b[0m         \u001b[38;5;124m\"\u001b[39m\u001b[38;5;124man ExcelFile - ExcelFile already has the engine set\u001b[39m\u001b[38;5;124m\"\u001b[39m\n\u001b[0;32m    487\u001b[0m     )\n",
      "File \u001b[1;32m~\\anaconda3\\lib\\site-packages\\pandas\\io\\excel\\_base.py:1652\u001b[0m, in \u001b[0;36mExcelFile.__init__\u001b[1;34m(self, path_or_buffer, engine, storage_options)\u001b[0m\n\u001b[0;32m   1650\u001b[0m     ext \u001b[38;5;241m=\u001b[39m \u001b[38;5;124m\"\u001b[39m\u001b[38;5;124mxls\u001b[39m\u001b[38;5;124m\"\u001b[39m\n\u001b[0;32m   1651\u001b[0m \u001b[38;5;28;01melse\u001b[39;00m:\n\u001b[1;32m-> 1652\u001b[0m     ext \u001b[38;5;241m=\u001b[39m \u001b[43minspect_excel_format\u001b[49m\u001b[43m(\u001b[49m\n\u001b[0;32m   1653\u001b[0m \u001b[43m        \u001b[49m\u001b[43mcontent_or_path\u001b[49m\u001b[38;5;241;43m=\u001b[39;49m\u001b[43mpath_or_buffer\u001b[49m\u001b[43m,\u001b[49m\u001b[43m \u001b[49m\u001b[43mstorage_options\u001b[49m\u001b[38;5;241;43m=\u001b[39;49m\u001b[43mstorage_options\u001b[49m\n\u001b[0;32m   1654\u001b[0m \u001b[43m    \u001b[49m\u001b[43m)\u001b[49m\n\u001b[0;32m   1655\u001b[0m     \u001b[38;5;28;01mif\u001b[39;00m ext \u001b[38;5;129;01mis\u001b[39;00m \u001b[38;5;28;01mNone\u001b[39;00m:\n\u001b[0;32m   1656\u001b[0m         \u001b[38;5;28;01mraise\u001b[39;00m \u001b[38;5;167;01mValueError\u001b[39;00m(\n\u001b[0;32m   1657\u001b[0m             \u001b[38;5;124m\"\u001b[39m\u001b[38;5;124mExcel file format cannot be determined, you must specify \u001b[39m\u001b[38;5;124m\"\u001b[39m\n\u001b[0;32m   1658\u001b[0m             \u001b[38;5;124m\"\u001b[39m\u001b[38;5;124man engine manually.\u001b[39m\u001b[38;5;124m\"\u001b[39m\n\u001b[0;32m   1659\u001b[0m         )\n",
      "File \u001b[1;32m~\\anaconda3\\lib\\site-packages\\pandas\\io\\excel\\_base.py:1525\u001b[0m, in \u001b[0;36minspect_excel_format\u001b[1;34m(content_or_path, storage_options)\u001b[0m\n\u001b[0;32m   1522\u001b[0m \u001b[38;5;28;01mif\u001b[39;00m \u001b[38;5;28misinstance\u001b[39m(content_or_path, \u001b[38;5;28mbytes\u001b[39m):\n\u001b[0;32m   1523\u001b[0m     content_or_path \u001b[38;5;241m=\u001b[39m BytesIO(content_or_path)\n\u001b[1;32m-> 1525\u001b[0m \u001b[38;5;28;01mwith\u001b[39;00m \u001b[43mget_handle\u001b[49m\u001b[43m(\u001b[49m\n\u001b[0;32m   1526\u001b[0m \u001b[43m    \u001b[49m\u001b[43mcontent_or_path\u001b[49m\u001b[43m,\u001b[49m\u001b[43m \u001b[49m\u001b[38;5;124;43m\"\u001b[39;49m\u001b[38;5;124;43mrb\u001b[39;49m\u001b[38;5;124;43m\"\u001b[39;49m\u001b[43m,\u001b[49m\u001b[43m \u001b[49m\u001b[43mstorage_options\u001b[49m\u001b[38;5;241;43m=\u001b[39;49m\u001b[43mstorage_options\u001b[49m\u001b[43m,\u001b[49m\u001b[43m \u001b[49m\u001b[43mis_text\u001b[49m\u001b[38;5;241;43m=\u001b[39;49m\u001b[38;5;28;43;01mFalse\u001b[39;49;00m\n\u001b[0;32m   1527\u001b[0m \u001b[43m\u001b[49m\u001b[43m)\u001b[49m \u001b[38;5;28;01mas\u001b[39;00m handle:\n\u001b[0;32m   1528\u001b[0m     stream \u001b[38;5;241m=\u001b[39m handle\u001b[38;5;241m.\u001b[39mhandle\n\u001b[0;32m   1529\u001b[0m     stream\u001b[38;5;241m.\u001b[39mseek(\u001b[38;5;241m0\u001b[39m)\n",
      "File \u001b[1;32m~\\anaconda3\\lib\\site-packages\\pandas\\io\\common.py:865\u001b[0m, in \u001b[0;36mget_handle\u001b[1;34m(path_or_buf, mode, encoding, compression, memory_map, is_text, errors, storage_options)\u001b[0m\n\u001b[0;32m    856\u001b[0m         handle \u001b[38;5;241m=\u001b[39m \u001b[38;5;28mopen\u001b[39m(\n\u001b[0;32m    857\u001b[0m             handle,\n\u001b[0;32m    858\u001b[0m             ioargs\u001b[38;5;241m.\u001b[39mmode,\n\u001b[1;32m   (...)\u001b[0m\n\u001b[0;32m    861\u001b[0m             newline\u001b[38;5;241m=\u001b[39m\u001b[38;5;124m\"\u001b[39m\u001b[38;5;124m\"\u001b[39m,\n\u001b[0;32m    862\u001b[0m         )\n\u001b[0;32m    863\u001b[0m     \u001b[38;5;28;01melse\u001b[39;00m:\n\u001b[0;32m    864\u001b[0m         \u001b[38;5;66;03m# Binary mode\u001b[39;00m\n\u001b[1;32m--> 865\u001b[0m         handle \u001b[38;5;241m=\u001b[39m \u001b[38;5;28;43mopen\u001b[39;49m\u001b[43m(\u001b[49m\u001b[43mhandle\u001b[49m\u001b[43m,\u001b[49m\u001b[43m \u001b[49m\u001b[43mioargs\u001b[49m\u001b[38;5;241;43m.\u001b[39;49m\u001b[43mmode\u001b[49m\u001b[43m)\u001b[49m\n\u001b[0;32m    866\u001b[0m     handles\u001b[38;5;241m.\u001b[39mappend(handle)\n\u001b[0;32m    868\u001b[0m \u001b[38;5;66;03m# Convert BytesIO or file objects passed with an encoding\u001b[39;00m\n",
      "\u001b[1;31mFileNotFoundError\u001b[0m: [Errno 2] No such file or directory: 'INX_Future_Inc_Employee_Performance.xls'"
     ]
    }
   ],
   "source": [
    "# Importing the csv file\n",
    "data = pd.read_excel('INX_Future_Inc_Employee_Performance.xls')"
   ]
  },
  {
   "cell_type": "markdown",
   "metadata": {},
   "source": [
    "## Source Code"
   ]
  },
  {
   "cell_type": "markdown",
   "metadata": {},
   "source": [
    "### Exploratory Data Analysis"
   ]
  },
  {
   "cell_type": "code",
   "execution_count": null,
   "metadata": {},
   "outputs": [],
   "source": [
    "data.shape"
   ]
  },
  {
   "cell_type": "code",
   "execution_count": null,
   "metadata": {
    "scrolled": true
   },
   "outputs": [],
   "source": [
    "data.columns"
   ]
  },
  {
   "cell_type": "code",
   "execution_count": null,
   "metadata": {},
   "outputs": [],
   "source": [
    "data.head()"
   ]
  },
  {
   "cell_type": "code",
   "execution_count": null,
   "metadata": {},
   "outputs": [],
   "source": [
    "# Looking for missing data\n",
    "data.info()"
   ]
  },
  {
   "cell_type": "markdown",
   "metadata": {},
   "source": [
    "## Analysis of Department wise Perfomance"
   ]
  },
  {
   "cell_type": "code",
   "execution_count": null,
   "metadata": {},
   "outputs": [],
   "source": [
    "# A new pandas Dataframe is created to analyze department wise performance as asked.\n",
    "dept = data.iloc[:,[5,27]].copy()\n",
    "dept_per = dept.copy()"
   ]
  },
  {
   "cell_type": "code",
   "execution_count": 4,
   "metadata": {},
   "outputs": [
    {
     "ename": "NameError",
     "evalue": "name 'dept_per' is not defined",
     "output_type": "error",
     "traceback": [
      "\u001b[1;31m---------------------------------------------------------------------------\u001b[0m",
      "\u001b[1;31mNameError\u001b[0m                                 Traceback (most recent call last)",
      "Cell \u001b[1;32mIn[4], line 2\u001b[0m\n\u001b[0;32m      1\u001b[0m \u001b[38;5;66;03m# Finding out the mean performance of all the departments and plotting its bar graph using seaborn.\u001b[39;00m\n\u001b[1;32m----> 2\u001b[0m \u001b[43mdept_per\u001b[49m\u001b[38;5;241m.\u001b[39mgroupby(by\u001b[38;5;241m=\u001b[39m\u001b[38;5;124m'\u001b[39m\u001b[38;5;124mEmpDepartment\u001b[39m\u001b[38;5;124m'\u001b[39m)[\u001b[38;5;124m'\u001b[39m\u001b[38;5;124mPerformanceRating\u001b[39m\u001b[38;5;124m'\u001b[39m]\u001b[38;5;241m.\u001b[39mmean()\n",
      "\u001b[1;31mNameError\u001b[0m: name 'dept_per' is not defined"
     ]
    }
   ],
   "source": [
    "# Finding out the mean performance of all the departments and plotting its bar graph using seaborn.\n",
    "dept_per.groupby(by='EmpDepartment')['PerformanceRating'].mean()"
   ]
  },
  {
   "cell_type": "code",
   "execution_count": 5,
   "metadata": {},
   "outputs": [
    {
     "ename": "NameError",
     "evalue": "name 'dept_per' is not defined",
     "output_type": "error",
     "traceback": [
      "\u001b[1;31m---------------------------------------------------------------------------\u001b[0m",
      "\u001b[1;31mNameError\u001b[0m                                 Traceback (most recent call last)",
      "Cell \u001b[1;32mIn[5], line 2\u001b[0m\n\u001b[0;32m      1\u001b[0m plt\u001b[38;5;241m.\u001b[39mfigure(figsize\u001b[38;5;241m=\u001b[39m(\u001b[38;5;241m10\u001b[39m,\u001b[38;5;241m4.5\u001b[39m))\n\u001b[1;32m----> 2\u001b[0m sns\u001b[38;5;241m.\u001b[39mbarplot(\u001b[43mdept_per\u001b[49m[\u001b[38;5;124m'\u001b[39m\u001b[38;5;124mEmpDepartment\u001b[39m\u001b[38;5;124m'\u001b[39m],dept_per[\u001b[38;5;124m'\u001b[39m\u001b[38;5;124mPerformanceRating\u001b[39m\u001b[38;5;124m'\u001b[39m])\n",
      "\u001b[1;31mNameError\u001b[0m: name 'dept_per' is not defined"
     ]
    },
    {
     "data": {
      "text/plain": [
       "<Figure size 1000x450 with 0 Axes>"
      ]
     },
     "metadata": {},
     "output_type": "display_data"
    }
   ],
   "source": [
    "plt.figure(figsize=(10,4.5))\n",
    "sns.barplot(dept_per['EmpDepartment'],dept_per['PerformanceRating'])"
   ]
  },
  {
   "cell_type": "code",
   "execution_count": 6,
   "metadata": {
    "scrolled": false
   },
   "outputs": [
    {
     "ename": "NameError",
     "evalue": "name 'dept_per' is not defined",
     "output_type": "error",
     "traceback": [
      "\u001b[1;31m---------------------------------------------------------------------------\u001b[0m",
      "\u001b[1;31mNameError\u001b[0m                                 Traceback (most recent call last)",
      "Cell \u001b[1;32mIn[6], line 2\u001b[0m\n\u001b[0;32m      1\u001b[0m \u001b[38;5;66;03m# Analyze each department separately\u001b[39;00m\n\u001b[1;32m----> 2\u001b[0m \u001b[43mdept_per\u001b[49m\u001b[38;5;241m.\u001b[39mgroupby(by\u001b[38;5;241m=\u001b[39m\u001b[38;5;124m'\u001b[39m\u001b[38;5;124mEmpDepartment\u001b[39m\u001b[38;5;124m'\u001b[39m)[\u001b[38;5;124m'\u001b[39m\u001b[38;5;124mPerformanceRating\u001b[39m\u001b[38;5;124m'\u001b[39m]\u001b[38;5;241m.\u001b[39mvalue_counts()\n",
      "\u001b[1;31mNameError\u001b[0m: name 'dept_per' is not defined"
     ]
    }
   ],
   "source": [
    "# Analyze each department separately\n",
    "dept_per.groupby(by='EmpDepartment')['PerformanceRating'].value_counts()"
   ]
  },
  {
   "cell_type": "code",
   "execution_count": 7,
   "metadata": {
    "scrolled": true
   },
   "outputs": [
    {
     "ename": "NameError",
     "evalue": "name 'dept_per' is not defined",
     "output_type": "error",
     "traceback": [
      "\u001b[1;31m---------------------------------------------------------------------------\u001b[0m",
      "\u001b[1;31mNameError\u001b[0m                                 Traceback (most recent call last)",
      "Cell \u001b[1;32mIn[7], line 2\u001b[0m\n\u001b[0;32m      1\u001b[0m \u001b[38;5;66;03m# Creating a new dataframe to analyze each department separately\u001b[39;00m\n\u001b[1;32m----> 2\u001b[0m department \u001b[38;5;241m=\u001b[39m pd\u001b[38;5;241m.\u001b[39mget_dummies(\u001b[43mdept_per\u001b[49m[\u001b[38;5;124m'\u001b[39m\u001b[38;5;124mEmpDepartment\u001b[39m\u001b[38;5;124m'\u001b[39m])\n\u001b[0;32m      3\u001b[0m performance \u001b[38;5;241m=\u001b[39m pd\u001b[38;5;241m.\u001b[39mDataFrame(dept_per[\u001b[38;5;124m'\u001b[39m\u001b[38;5;124mPerformanceRating\u001b[39m\u001b[38;5;124m'\u001b[39m])\n\u001b[0;32m      4\u001b[0m dept_rating \u001b[38;5;241m=\u001b[39m pd\u001b[38;5;241m.\u001b[39mconcat([department,performance],axis\u001b[38;5;241m=\u001b[39m\u001b[38;5;241m1\u001b[39m)\n",
      "\u001b[1;31mNameError\u001b[0m: name 'dept_per' is not defined"
     ]
    }
   ],
   "source": [
    "# Creating a new dataframe to analyze each department separately\n",
    "department = pd.get_dummies(dept_per['EmpDepartment'])\n",
    "performance = pd.DataFrame(dept_per['PerformanceRating'])\n",
    "dept_rating = pd.concat([department,performance],axis=1)"
   ]
  },
  {
   "cell_type": "code",
   "execution_count": 8,
   "metadata": {
    "scrolled": false
   },
   "outputs": [
    {
     "ename": "NameError",
     "evalue": "name 'dept_rating' is not defined",
     "output_type": "error",
     "traceback": [
      "\u001b[1;31m---------------------------------------------------------------------------\u001b[0m",
      "\u001b[1;31mNameError\u001b[0m                                 Traceback (most recent call last)",
      "Cell \u001b[1;32mIn[8], line 4\u001b[0m\n\u001b[0;32m      2\u001b[0m plt\u001b[38;5;241m.\u001b[39mfigure(figsize\u001b[38;5;241m=\u001b[39m(\u001b[38;5;241m15\u001b[39m,\u001b[38;5;241m10\u001b[39m))\n\u001b[0;32m      3\u001b[0m plt\u001b[38;5;241m.\u001b[39msubplot(\u001b[38;5;241m2\u001b[39m,\u001b[38;5;241m3\u001b[39m,\u001b[38;5;241m1\u001b[39m)\n\u001b[1;32m----> 4\u001b[0m sns\u001b[38;5;241m.\u001b[39mbarplot(\u001b[43mdept_rating\u001b[49m[\u001b[38;5;124m'\u001b[39m\u001b[38;5;124mPerformanceRating\u001b[39m\u001b[38;5;124m'\u001b[39m],dept_rating[\u001b[38;5;124m'\u001b[39m\u001b[38;5;124mSales\u001b[39m\u001b[38;5;124m'\u001b[39m])\n\u001b[0;32m      5\u001b[0m plt\u001b[38;5;241m.\u001b[39msubplot(\u001b[38;5;241m2\u001b[39m,\u001b[38;5;241m3\u001b[39m,\u001b[38;5;241m2\u001b[39m)\n\u001b[0;32m      6\u001b[0m sns\u001b[38;5;241m.\u001b[39mbarplot(dept_rating[\u001b[38;5;124m'\u001b[39m\u001b[38;5;124mPerformanceRating\u001b[39m\u001b[38;5;124m'\u001b[39m],dept_rating[\u001b[38;5;124m'\u001b[39m\u001b[38;5;124mDevelopment\u001b[39m\u001b[38;5;124m'\u001b[39m])\n",
      "\u001b[1;31mNameError\u001b[0m: name 'dept_rating' is not defined"
     ]
    },
    {
     "data": {
      "image/png": "[encoded data removed]",
      "text/plain": [
       "<Figure size 1500x1000 with 1 Axes>"
      ]
     },
     "metadata": {},
     "output_type": "display_data"
    }
   ],
   "source": [
    "# Plotting a separate bar graph for performance of each department using seaborn\n",
    "plt.figure(figsize=(15,10))\n",
    "plt.subplot(2,3,1)\n",
    "sns.barplot(dept_rating['PerformanceRating'],dept_rating['Sales'])\n",
    "plt.subplot(2,3,2)\n",
    "sns.barplot(dept_rating['PerformanceRating'],dept_rating['Development'])\n",
    "plt.subplot(2,3,3)\n",
    "sns.barplot(dept_rating['PerformanceRating'],dept_rating['Research & Development'])\n",
    "plt.subplot(2,3,4)\n",
    "sns.barplot(dept_rating['PerformanceRating'],dept_rating['Human Resources'])\n",
    "plt.subplot(2,3,5)\n",
    "sns.barplot(dept_rating['PerformanceRating'],dept_rating['Finance'])\n",
    "plt.subplot(2,3,6)\n",
    "sns.barplot(dept_rating['PerformanceRating'],dept_rating['Data Science'])\n",
    "plt.show()"
   ]
  },
  {
   "cell_type": "markdown",
   "metadata": {},
   "source": [
    "### Data Processing/ Data Munging"
   ]
  },
  {
   "cell_type": "code",
   "execution_count": 14,
   "metadata": {
    "scrolled": true
   },
   "outputs": [
    {
     "data": {
      "text/html": [
       "<div>\n",
       "<style scoped>\n",
       "    .dataframe tbody tr th:only-of-type {\n",
       "        vertical-align: middle;\n",
       "    }\n",
       "\n",
       "    .dataframe tbody tr th {\n",
       "        vertical-align: top;\n",
       "    }\n",
       "\n",
       "    .dataframe thead th {\n",
       "        text-align: right;\n",
       "    }\n",
       "</style>\n",
       "<table border=\"1\" class=\"dataframe\">\n",
       "  <thead>\n",
       "    <tr style=\"text-align: right;\">\n",
       "      <th></th>\n",
       "      <th>EmpNumber</th>\n",
       "      <th>Age</th>\n",
       "      <th>Gender</th>\n",
       "      <th>EducationBackground</th>\n",
       "      <th>MaritalStatus</th>\n",
       "      <th>EmpDepartment</th>\n",
       "      <th>EmpJobRole</th>\n",
       "      <th>BusinessTravelFrequency</th>\n",
       "      <th>DistanceFromHome</th>\n",
       "      <th>EmpEducationLevel</th>\n",
       "      <th>...</th>\n",
       "      <th>EmpRelationshipSatisfaction</th>\n",
       "      <th>TotalWorkExperienceInYears</th>\n",
       "      <th>TrainingTimesLastYear</th>\n",
       "      <th>EmpWorkLifeBalance</th>\n",
       "      <th>ExperienceYearsAtThisCompany</th>\n",
       "      <th>ExperienceYearsInCurrentRole</th>\n",
       "      <th>YearsSinceLastPromotion</th>\n",
       "      <th>YearsWithCurrManager</th>\n",
       "      <th>Attrition</th>\n",
       "      <th>PerformanceRating</th>\n",
       "    </tr>\n",
       "  </thead>\n",
       "  <tbody>\n",
       "    <tr>\n",
       "      <th>0</th>\n",
       "      <td>E1001000</td>\n",
       "      <td>32</td>\n",
       "      <td>1</td>\n",
       "      <td>2</td>\n",
       "      <td>2</td>\n",
       "      <td>5</td>\n",
       "      <td>13</td>\n",
       "      <td>2</td>\n",
       "      <td>10</td>\n",
       "      <td>3</td>\n",
       "      <td>...</td>\n",
       "      <td>4</td>\n",
       "      <td>10</td>\n",
       "      <td>2</td>\n",
       "      <td>2</td>\n",
       "      <td>10</td>\n",
       "      <td>7</td>\n",
       "      <td>0</td>\n",
       "      <td>8</td>\n",
       "      <td>0</td>\n",
       "      <td>3</td>\n",
       "    </tr>\n",
       "    <tr>\n",
       "      <th>1</th>\n",
       "      <td>E1001006</td>\n",
       "      <td>47</td>\n",
       "      <td>1</td>\n",
       "      <td>2</td>\n",
       "      <td>2</td>\n",
       "      <td>5</td>\n",
       "      <td>13</td>\n",
       "      <td>2</td>\n",
       "      <td>14</td>\n",
       "      <td>4</td>\n",
       "      <td>...</td>\n",
       "      <td>4</td>\n",
       "      <td>20</td>\n",
       "      <td>2</td>\n",
       "      <td>3</td>\n",
       "      <td>7</td>\n",
       "      <td>7</td>\n",
       "      <td>1</td>\n",
       "      <td>7</td>\n",
       "      <td>0</td>\n",
       "      <td>3</td>\n",
       "    </tr>\n",
       "    <tr>\n",
       "      <th>2</th>\n",
       "      <td>E1001007</td>\n",
       "      <td>40</td>\n",
       "      <td>1</td>\n",
       "      <td>1</td>\n",
       "      <td>1</td>\n",
       "      <td>5</td>\n",
       "      <td>13</td>\n",
       "      <td>1</td>\n",
       "      <td>5</td>\n",
       "      <td>4</td>\n",
       "      <td>...</td>\n",
       "      <td>3</td>\n",
       "      <td>20</td>\n",
       "      <td>2</td>\n",
       "      <td>3</td>\n",
       "      <td>18</td>\n",
       "      <td>13</td>\n",
       "      <td>1</td>\n",
       "      <td>12</td>\n",
       "      <td>0</td>\n",
       "      <td>4</td>\n",
       "    </tr>\n",
       "    <tr>\n",
       "      <th>3</th>\n",
       "      <td>E1001009</td>\n",
       "      <td>41</td>\n",
       "      <td>1</td>\n",
       "      <td>0</td>\n",
       "      <td>0</td>\n",
       "      <td>3</td>\n",
       "      <td>8</td>\n",
       "      <td>2</td>\n",
       "      <td>10</td>\n",
       "      <td>4</td>\n",
       "      <td>...</td>\n",
       "      <td>2</td>\n",
       "      <td>23</td>\n",
       "      <td>2</td>\n",
       "      <td>2</td>\n",
       "      <td>21</td>\n",
       "      <td>6</td>\n",
       "      <td>12</td>\n",
       "      <td>6</td>\n",
       "      <td>0</td>\n",
       "      <td>3</td>\n",
       "    </tr>\n",
       "    <tr>\n",
       "      <th>4</th>\n",
       "      <td>E1001010</td>\n",
       "      <td>60</td>\n",
       "      <td>1</td>\n",
       "      <td>2</td>\n",
       "      <td>2</td>\n",
       "      <td>5</td>\n",
       "      <td>13</td>\n",
       "      <td>2</td>\n",
       "      <td>16</td>\n",
       "      <td>4</td>\n",
       "      <td>...</td>\n",
       "      <td>4</td>\n",
       "      <td>10</td>\n",
       "      <td>1</td>\n",
       "      <td>3</td>\n",
       "      <td>2</td>\n",
       "      <td>2</td>\n",
       "      <td>2</td>\n",
       "      <td>2</td>\n",
       "      <td>0</td>\n",
       "      <td>3</td>\n",
       "    </tr>\n",
       "  </tbody>\n",
       "</table>\n",
       "<p>5 rows × 28 columns</p>\n",
       "</div>"
      ],
      "text/plain": [
       "  EmpNumber  Age  Gender  EducationBackground  MaritalStatus  EmpDepartment  \\\n",
       "0  E1001000   32       1                    2              2              5   \n",
       "1  E1001006   47       1                    2              2              5   \n",
       "2  E1001007   40       1                    1              1              5   \n",
       "3  E1001009   41       1                    0              0              3   \n",
       "4  E1001010   60       1                    2              2              5   \n",
       "\n",
       "   EmpJobRole  BusinessTravelFrequency  DistanceFromHome  EmpEducationLevel  \\\n",
       "0          13                        2                10                  3   \n",
       "1          13                        2                14                  4   \n",
       "2          13                        1                 5                  4   \n",
       "3           8                        2                10                  4   \n",
       "4          13                        2                16                  4   \n",
       "\n",
       "   ...  EmpRelationshipSatisfaction  TotalWorkExperienceInYears  \\\n",
       "0  ...                            4                          10   \n",
       "1  ...                            4                          20   \n",
       "2  ...                            3                          20   \n",
       "3  ...                            2                          23   \n",
       "4  ...                            4                          10   \n",
       "\n",
       "   TrainingTimesLastYear  EmpWorkLifeBalance  ExperienceYearsAtThisCompany  \\\n",
       "0                      2                   2                            10   \n",
       "1                      2                   3                             7   \n",
       "2                      2                   3                            18   \n",
       "3                      2                   2                            21   \n",
       "4                      1                   3                             2   \n",
       "\n",
       "   ExperienceYearsInCurrentRole  YearsSinceLastPromotion  \\\n",
       "0                             7                        0   \n",
       "1                             7                        1   \n",
       "2                            13                        1   \n",
       "3                             6                       12   \n",
       "4                             2                        2   \n",
       "\n",
       "   YearsWithCurrManager  Attrition  PerformanceRating  \n",
       "0                     8          0                  3  \n",
       "1                     7          0                  3  \n",
       "2                    12          0                  4  \n",
       "3                     6          0                  3  \n",
       "4                     2          0                  3  \n",
       "\n",
       "[5 rows x 28 columns]"
      ]
     },
     "execution_count": 14,
     "metadata": {},
     "output_type": "execute_result"
    }
   ],
   "source": [
    "# Encoding all the ordinal columns and creating a dummy variable for them to see if there are any effects on Performance Rating\n",
    "enc = LabelEncoder()\n",
    "for i in (2,3,4,5,6,7,16,26):\n",
    "    data.iloc[:,i] = enc.fit_transform(data.iloc[:,i])\n",
    "data.head()"
   ]
  },
  {
   "cell_type": "markdown",
   "metadata": {},
   "source": [
    "## Feature Selection    \n",
    "-     There are a lot of columns in the predictor variable. So, the correlation coeffecient is calculated to see which of them are important and these are then used for training methods. From there, we also get the top factors which affect performance. We can see that the most important features selectd were Department, Job Role, Environment Satisfaction, Last Salary Hike Percent, Work Life Balance, Experience Years At This Company, Experience Years In Current Role, Years Since Last Promotion, Years With Current Manager. These were selected because their correlation coeffecient with Performance Rating was more than 0.1. \n",
    "-     Standardization and Label Encoding was also used for feature transformation.\n",
    "-     A separate analysis considering all the predictors was carried out but it resulted in decreasing the accuracy. Similarly, Principal Component Analysis also reduces the accuracy.\n",
    "-     Top 3 factors which affect the employee performance are 1. Employee EnvironmentSatisfaction, 2. Employee Last Salary Hike Percent and 3. Years Since Last Promotion"
   ]
  },
  {
   "cell_type": "code",
   "execution_count": 15,
   "metadata": {
    "scrolled": false
   },
   "outputs": [
    {
     "data": {
      "text/html": [
       "<div>\n",
       "<style scoped>\n",
       "    .dataframe tbody tr th:only-of-type {\n",
       "        vertical-align: middle;\n",
       "    }\n",
       "\n",
       "    .dataframe tbody tr th {\n",
       "        vertical-align: top;\n",
       "    }\n",
       "\n",
       "    .dataframe thead th {\n",
       "        text-align: right;\n",
       "    }\n",
       "</style>\n",
       "<table border=\"1\" class=\"dataframe\">\n",
       "  <thead>\n",
       "    <tr style=\"text-align: right;\">\n",
       "      <th></th>\n",
       "      <th>Age</th>\n",
       "      <th>Gender</th>\n",
       "      <th>EducationBackground</th>\n",
       "      <th>MaritalStatus</th>\n",
       "      <th>EmpDepartment</th>\n",
       "      <th>EmpJobRole</th>\n",
       "      <th>BusinessTravelFrequency</th>\n",
       "      <th>DistanceFromHome</th>\n",
       "      <th>EmpEducationLevel</th>\n",
       "      <th>EmpEnvironmentSatisfaction</th>\n",
       "      <th>...</th>\n",
       "      <th>EmpRelationshipSatisfaction</th>\n",
       "      <th>TotalWorkExperienceInYears</th>\n",
       "      <th>TrainingTimesLastYear</th>\n",
       "      <th>EmpWorkLifeBalance</th>\n",
       "      <th>ExperienceYearsAtThisCompany</th>\n",
       "      <th>ExperienceYearsInCurrentRole</th>\n",
       "      <th>YearsSinceLastPromotion</th>\n",
       "      <th>YearsWithCurrManager</th>\n",
       "      <th>Attrition</th>\n",
       "      <th>PerformanceRating</th>\n",
       "    </tr>\n",
       "  </thead>\n",
       "  <tbody>\n",
       "    <tr>\n",
       "      <th>Age</th>\n",
       "      <td>1.000000</td>\n",
       "      <td>-0.040107</td>\n",
       "      <td>-0.055905</td>\n",
       "      <td>-0.098368</td>\n",
       "      <td>-0.000104</td>\n",
       "      <td>-0.037665</td>\n",
       "      <td>0.040579</td>\n",
       "      <td>0.020937</td>\n",
       "      <td>0.207313</td>\n",
       "      <td>0.013814</td>\n",
       "      <td>...</td>\n",
       "      <td>0.049749</td>\n",
       "      <td>0.680886</td>\n",
       "      <td>-0.016053</td>\n",
       "      <td>-0.019563</td>\n",
       "      <td>0.318852</td>\n",
       "      <td>0.217163</td>\n",
       "      <td>0.228199</td>\n",
       "      <td>0.205098</td>\n",
       "      <td>-0.189317</td>\n",
       "      <td>-0.040164</td>\n",
       "    </tr>\n",
       "    <tr>\n",
       "      <th>Gender</th>\n",
       "      <td>-0.040107</td>\n",
       "      <td>1.000000</td>\n",
       "      <td>0.009922</td>\n",
       "      <td>-0.042169</td>\n",
       "      <td>-0.010925</td>\n",
       "      <td>0.011332</td>\n",
       "      <td>-0.043608</td>\n",
       "      <td>-0.001507</td>\n",
       "      <td>-0.022960</td>\n",
       "      <td>0.000033</td>\n",
       "      <td>...</td>\n",
       "      <td>0.030707</td>\n",
       "      <td>-0.061055</td>\n",
       "      <td>-0.057654</td>\n",
       "      <td>0.015793</td>\n",
       "      <td>-0.030392</td>\n",
       "      <td>-0.031823</td>\n",
       "      <td>-0.021575</td>\n",
       "      <td>-0.036643</td>\n",
       "      <td>0.035758</td>\n",
       "      <td>-0.001780</td>\n",
       "    </tr>\n",
       "    <tr>\n",
       "      <th>EducationBackground</th>\n",
       "      <td>-0.055905</td>\n",
       "      <td>0.009922</td>\n",
       "      <td>1.000000</td>\n",
       "      <td>-0.001097</td>\n",
       "      <td>-0.026874</td>\n",
       "      <td>-0.012325</td>\n",
       "      <td>0.012382</td>\n",
       "      <td>-0.013919</td>\n",
       "      <td>-0.047978</td>\n",
       "      <td>0.045028</td>\n",
       "      <td>...</td>\n",
       "      <td>0.005652</td>\n",
       "      <td>-0.027929</td>\n",
       "      <td>0.051596</td>\n",
       "      <td>0.022890</td>\n",
       "      <td>-0.009887</td>\n",
       "      <td>-0.003215</td>\n",
       "      <td>0.014277</td>\n",
       "      <td>0.002767</td>\n",
       "      <td>0.027161</td>\n",
       "      <td>0.005607</td>\n",
       "    </tr>\n",
       "    <tr>\n",
       "      <th>MaritalStatus</th>\n",
       "      <td>-0.098368</td>\n",
       "      <td>-0.042169</td>\n",
       "      <td>-0.001097</td>\n",
       "      <td>1.000000</td>\n",
       "      <td>0.067272</td>\n",
       "      <td>0.038023</td>\n",
       "      <td>0.028520</td>\n",
       "      <td>-0.019148</td>\n",
       "      <td>0.026737</td>\n",
       "      <td>-0.032467</td>\n",
       "      <td>...</td>\n",
       "      <td>0.026410</td>\n",
       "      <td>-0.093537</td>\n",
       "      <td>0.026045</td>\n",
       "      <td>0.014154</td>\n",
       "      <td>-0.075728</td>\n",
       "      <td>-0.076663</td>\n",
       "      <td>-0.052951</td>\n",
       "      <td>-0.061908</td>\n",
       "      <td>0.162969</td>\n",
       "      <td>0.024172</td>\n",
       "    </tr>\n",
       "    <tr>\n",
       "      <th>EmpDepartment</th>\n",
       "      <td>-0.000104</td>\n",
       "      <td>-0.010925</td>\n",
       "      <td>-0.026874</td>\n",
       "      <td>0.067272</td>\n",
       "      <td>1.000000</td>\n",
       "      <td>0.568973</td>\n",
       "      <td>-0.045233</td>\n",
       "      <td>0.007707</td>\n",
       "      <td>0.019175</td>\n",
       "      <td>-0.019237</td>\n",
       "      <td>...</td>\n",
       "      <td>-0.050286</td>\n",
       "      <td>0.016065</td>\n",
       "      <td>0.016438</td>\n",
       "      <td>0.068875</td>\n",
       "      <td>0.047677</td>\n",
       "      <td>0.069602</td>\n",
       "      <td>0.052315</td>\n",
       "      <td>0.033850</td>\n",
       "      <td>0.048006</td>\n",
       "      <td>-0.162615</td>\n",
       "    </tr>\n",
       "    <tr>\n",
       "      <th>EmpJobRole</th>\n",
       "      <td>-0.037665</td>\n",
       "      <td>0.011332</td>\n",
       "      <td>-0.012325</td>\n",
       "      <td>0.038023</td>\n",
       "      <td>0.568973</td>\n",
       "      <td>1.000000</td>\n",
       "      <td>-0.086251</td>\n",
       "      <td>0.022939</td>\n",
       "      <td>-0.016792</td>\n",
       "      <td>0.044612</td>\n",
       "      <td>...</td>\n",
       "      <td>-0.043067</td>\n",
       "      <td>-0.049529</td>\n",
       "      <td>0.004452</td>\n",
       "      <td>-0.007519</td>\n",
       "      <td>-0.009047</td>\n",
       "      <td>0.019383</td>\n",
       "      <td>0.012190</td>\n",
       "      <td>-0.004504</td>\n",
       "      <td>0.037508</td>\n",
       "      <td>-0.096209</td>\n",
       "    </tr>\n",
       "    <tr>\n",
       "      <th>BusinessTravelFrequency</th>\n",
       "      <td>0.040579</td>\n",
       "      <td>-0.043608</td>\n",
       "      <td>0.012382</td>\n",
       "      <td>0.028520</td>\n",
       "      <td>-0.045233</td>\n",
       "      <td>-0.086251</td>\n",
       "      <td>1.000000</td>\n",
       "      <td>-0.020935</td>\n",
       "      <td>0.002064</td>\n",
       "      <td>0.012267</td>\n",
       "      <td>...</td>\n",
       "      <td>-0.032705</td>\n",
       "      <td>0.042736</td>\n",
       "      <td>0.006720</td>\n",
       "      <td>-0.040969</td>\n",
       "      <td>-0.015029</td>\n",
       "      <td>-0.006541</td>\n",
       "      <td>-0.020824</td>\n",
       "      <td>-0.028073</td>\n",
       "      <td>0.007217</td>\n",
       "      <td>-0.031025</td>\n",
       "    </tr>\n",
       "    <tr>\n",
       "      <th>DistanceFromHome</th>\n",
       "      <td>0.020937</td>\n",
       "      <td>-0.001507</td>\n",
       "      <td>-0.013919</td>\n",
       "      <td>-0.019148</td>\n",
       "      <td>0.007707</td>\n",
       "      <td>0.022939</td>\n",
       "      <td>-0.020935</td>\n",
       "      <td>1.000000</td>\n",
       "      <td>0.045856</td>\n",
       "      <td>-0.017719</td>\n",
       "      <td>...</td>\n",
       "      <td>-0.009509</td>\n",
       "      <td>0.027306</td>\n",
       "      <td>-0.032082</td>\n",
       "      <td>-0.044788</td>\n",
       "      <td>0.021908</td>\n",
       "      <td>0.019898</td>\n",
       "      <td>0.013246</td>\n",
       "      <td>0.017860</td>\n",
       "      <td>0.063248</td>\n",
       "      <td>-0.046142</td>\n",
       "    </tr>\n",
       "    <tr>\n",
       "      <th>EmpEducationLevel</th>\n",
       "      <td>0.207313</td>\n",
       "      <td>-0.022960</td>\n",
       "      <td>-0.047978</td>\n",
       "      <td>0.026737</td>\n",
       "      <td>0.019175</td>\n",
       "      <td>-0.016792</td>\n",
       "      <td>0.002064</td>\n",
       "      <td>0.045856</td>\n",
       "      <td>1.000000</td>\n",
       "      <td>-0.037103</td>\n",
       "      <td>...</td>\n",
       "      <td>-0.016690</td>\n",
       "      <td>0.151062</td>\n",
       "      <td>-0.013674</td>\n",
       "      <td>0.010276</td>\n",
       "      <td>0.076332</td>\n",
       "      <td>0.066672</td>\n",
       "      <td>0.054313</td>\n",
       "      <td>0.088988</td>\n",
       "      <td>-0.049118</td>\n",
       "      <td>0.020529</td>\n",
       "    </tr>\n",
       "    <tr>\n",
       "      <th>EmpEnvironmentSatisfaction</th>\n",
       "      <td>0.013814</td>\n",
       "      <td>0.000033</td>\n",
       "      <td>0.045028</td>\n",
       "      <td>-0.032467</td>\n",
       "      <td>-0.019237</td>\n",
       "      <td>0.044612</td>\n",
       "      <td>0.012267</td>\n",
       "      <td>-0.017719</td>\n",
       "      <td>-0.037103</td>\n",
       "      <td>1.000000</td>\n",
       "      <td>...</td>\n",
       "      <td>-0.010504</td>\n",
       "      <td>-0.012894</td>\n",
       "      <td>0.001192</td>\n",
       "      <td>-0.000262</td>\n",
       "      <td>-0.000561</td>\n",
       "      <td>0.025491</td>\n",
       "      <td>0.010732</td>\n",
       "      <td>-0.011702</td>\n",
       "      <td>-0.123490</td>\n",
       "      <td>0.395561</td>\n",
       "    </tr>\n",
       "    <tr>\n",
       "      <th>EmpHourlyRate</th>\n",
       "      <td>0.062867</td>\n",
       "      <td>0.002218</td>\n",
       "      <td>-0.030234</td>\n",
       "      <td>-0.013540</td>\n",
       "      <td>0.003957</td>\n",
       "      <td>-0.016179</td>\n",
       "      <td>0.025400</td>\n",
       "      <td>0.013730</td>\n",
       "      <td>0.014095</td>\n",
       "      <td>-0.049501</td>\n",
       "      <td>...</td>\n",
       "      <td>0.008783</td>\n",
       "      <td>0.026034</td>\n",
       "      <td>-0.024160</td>\n",
       "      <td>0.016189</td>\n",
       "      <td>-0.000399</td>\n",
       "      <td>-0.011871</td>\n",
       "      <td>-0.010000</td>\n",
       "      <td>-0.004576</td>\n",
       "      <td>-0.026313</td>\n",
       "      <td>-0.043116</td>\n",
       "    </tr>\n",
       "    <tr>\n",
       "      <th>EmpJobInvolvement</th>\n",
       "      <td>0.027216</td>\n",
       "      <td>0.010949</td>\n",
       "      <td>-0.025505</td>\n",
       "      <td>-0.043355</td>\n",
       "      <td>-0.076988</td>\n",
       "      <td>-0.008034</td>\n",
       "      <td>0.016652</td>\n",
       "      <td>0.003231</td>\n",
       "      <td>0.027544</td>\n",
       "      <td>0.004865</td>\n",
       "      <td>...</td>\n",
       "      <td>0.018037</td>\n",
       "      <td>-0.028851</td>\n",
       "      <td>-0.025168</td>\n",
       "      <td>-0.014129</td>\n",
       "      <td>-0.039720</td>\n",
       "      <td>0.002910</td>\n",
       "      <td>-0.019944</td>\n",
       "      <td>0.012924</td>\n",
       "      <td>-0.153360</td>\n",
       "      <td>-0.010539</td>\n",
       "    </tr>\n",
       "    <tr>\n",
       "      <th>EmpJobLevel</th>\n",
       "      <td>0.509139</td>\n",
       "      <td>-0.050685</td>\n",
       "      <td>-0.056338</td>\n",
       "      <td>-0.087359</td>\n",
       "      <td>0.100526</td>\n",
       "      <td>0.004406</td>\n",
       "      <td>0.036360</td>\n",
       "      <td>0.017270</td>\n",
       "      <td>0.100734</td>\n",
       "      <td>-0.008272</td>\n",
       "      <td>...</td>\n",
       "      <td>0.002992</td>\n",
       "      <td>0.784229</td>\n",
       "      <td>-0.000389</td>\n",
       "      <td>0.049218</td>\n",
       "      <td>0.540377</td>\n",
       "      <td>0.399235</td>\n",
       "      <td>0.360880</td>\n",
       "      <td>0.374872</td>\n",
       "      <td>-0.175763</td>\n",
       "      <td>-0.076632</td>\n",
       "    </tr>\n",
       "    <tr>\n",
       "      <th>EmpJobSatisfaction</th>\n",
       "      <td>-0.002436</td>\n",
       "      <td>0.024680</td>\n",
       "      <td>-0.030977</td>\n",
       "      <td>0.044593</td>\n",
       "      <td>0.007150</td>\n",
       "      <td>0.032916</td>\n",
       "      <td>-0.031236</td>\n",
       "      <td>-0.003036</td>\n",
       "      <td>0.000357</td>\n",
       "      <td>-0.004319</td>\n",
       "      <td>...</td>\n",
       "      <td>-0.022028</td>\n",
       "      <td>-0.026824</td>\n",
       "      <td>-0.028031</td>\n",
       "      <td>-0.018548</td>\n",
       "      <td>0.001807</td>\n",
       "      <td>0.002018</td>\n",
       "      <td>-0.006508</td>\n",
       "      <td>-0.022096</td>\n",
       "      <td>-0.081783</td>\n",
       "      <td>0.000606</td>\n",
       "    </tr>\n",
       "    <tr>\n",
       "      <th>NumCompaniesWorked</th>\n",
       "      <td>0.284408</td>\n",
       "      <td>-0.036675</td>\n",
       "      <td>-0.032879</td>\n",
       "      <td>-0.030095</td>\n",
       "      <td>-0.033950</td>\n",
       "      <td>-0.009111</td>\n",
       "      <td>0.021476</td>\n",
       "      <td>-0.021411</td>\n",
       "      <td>0.128674</td>\n",
       "      <td>0.017270</td>\n",
       "      <td>...</td>\n",
       "      <td>0.057917</td>\n",
       "      <td>0.221505</td>\n",
       "      <td>-0.050817</td>\n",
       "      <td>0.002489</td>\n",
       "      <td>-0.129797</td>\n",
       "      <td>-0.097271</td>\n",
       "      <td>-0.031656</td>\n",
       "      <td>-0.109937</td>\n",
       "      <td>0.037643</td>\n",
       "      <td>0.020980</td>\n",
       "    </tr>\n",
       "    <tr>\n",
       "      <th>OverTime</th>\n",
       "      <td>0.051910</td>\n",
       "      <td>-0.038410</td>\n",
       "      <td>0.007046</td>\n",
       "      <td>-0.022833</td>\n",
       "      <td>-0.026841</td>\n",
       "      <td>0.015075</td>\n",
       "      <td>0.032229</td>\n",
       "      <td>0.024940</td>\n",
       "      <td>-0.021119</td>\n",
       "      <td>0.064270</td>\n",
       "      <td>...</td>\n",
       "      <td>0.034146</td>\n",
       "      <td>0.044233</td>\n",
       "      <td>-0.061398</td>\n",
       "      <td>-0.027968</td>\n",
       "      <td>0.004295</td>\n",
       "      <td>-0.015674</td>\n",
       "      <td>0.000261</td>\n",
       "      <td>-0.028447</td>\n",
       "      <td>0.224535</td>\n",
       "      <td>0.050206</td>\n",
       "    </tr>\n",
       "    <tr>\n",
       "      <th>EmpLastSalaryHikePercent</th>\n",
       "      <td>-0.006105</td>\n",
       "      <td>-0.005319</td>\n",
       "      <td>-0.009788</td>\n",
       "      <td>0.010128</td>\n",
       "      <td>-0.012661</td>\n",
       "      <td>0.005735</td>\n",
       "      <td>-0.041946</td>\n",
       "      <td>0.044974</td>\n",
       "      <td>0.002358</td>\n",
       "      <td>-0.047271</td>\n",
       "      <td>...</td>\n",
       "      <td>-0.042892</td>\n",
       "      <td>-0.005933</td>\n",
       "      <td>-0.013439</td>\n",
       "      <td>-0.017001</td>\n",
       "      <td>-0.019830</td>\n",
       "      <td>-0.004957</td>\n",
       "      <td>-0.015911</td>\n",
       "      <td>-0.007666</td>\n",
       "      <td>-0.009448</td>\n",
       "      <td>0.333722</td>\n",
       "    </tr>\n",
       "    <tr>\n",
       "      <th>EmpRelationshipSatisfaction</th>\n",
       "      <td>0.049749</td>\n",
       "      <td>0.030707</td>\n",
       "      <td>0.005652</td>\n",
       "      <td>0.026410</td>\n",
       "      <td>-0.050286</td>\n",
       "      <td>-0.043067</td>\n",
       "      <td>-0.032705</td>\n",
       "      <td>-0.009509</td>\n",
       "      <td>-0.016690</td>\n",
       "      <td>-0.010504</td>\n",
       "      <td>...</td>\n",
       "      <td>1.000000</td>\n",
       "      <td>0.018089</td>\n",
       "      <td>0.025975</td>\n",
       "      <td>-0.004906</td>\n",
       "      <td>0.015612</td>\n",
       "      <td>-0.032131</td>\n",
       "      <td>0.026253</td>\n",
       "      <td>-0.006426</td>\n",
       "      <td>-0.037179</td>\n",
       "      <td>-0.019502</td>\n",
       "    </tr>\n",
       "    <tr>\n",
       "      <th>TotalWorkExperienceInYears</th>\n",
       "      <td>0.680886</td>\n",
       "      <td>-0.061055</td>\n",
       "      <td>-0.027929</td>\n",
       "      <td>-0.093537</td>\n",
       "      <td>0.016065</td>\n",
       "      <td>-0.049529</td>\n",
       "      <td>0.042736</td>\n",
       "      <td>0.027306</td>\n",
       "      <td>0.151062</td>\n",
       "      <td>-0.012894</td>\n",
       "      <td>...</td>\n",
       "      <td>0.018089</td>\n",
       "      <td>1.000000</td>\n",
       "      <td>-0.022113</td>\n",
       "      <td>0.015495</td>\n",
       "      <td>0.633555</td>\n",
       "      <td>0.460700</td>\n",
       "      <td>0.412781</td>\n",
       "      <td>0.460783</td>\n",
       "      <td>-0.185226</td>\n",
       "      <td>-0.068141</td>\n",
       "    </tr>\n",
       "    <tr>\n",
       "      <th>TrainingTimesLastYear</th>\n",
       "      <td>-0.016053</td>\n",
       "      <td>-0.057654</td>\n",
       "      <td>0.051596</td>\n",
       "      <td>0.026045</td>\n",
       "      <td>0.016438</td>\n",
       "      <td>0.004452</td>\n",
       "      <td>0.006720</td>\n",
       "      <td>-0.032082</td>\n",
       "      <td>-0.013674</td>\n",
       "      <td>0.001192</td>\n",
       "      <td>...</td>\n",
       "      <td>0.025975</td>\n",
       "      <td>-0.022113</td>\n",
       "      <td>1.000000</td>\n",
       "      <td>0.037048</td>\n",
       "      <td>0.008564</td>\n",
       "      <td>0.010222</td>\n",
       "      <td>0.018831</td>\n",
       "      <td>-0.013237</td>\n",
       "      <td>-0.035047</td>\n",
       "      <td>-0.005443</td>\n",
       "    </tr>\n",
       "    <tr>\n",
       "      <th>EmpWorkLifeBalance</th>\n",
       "      <td>-0.019563</td>\n",
       "      <td>0.015793</td>\n",
       "      <td>0.022890</td>\n",
       "      <td>0.014154</td>\n",
       "      <td>0.068875</td>\n",
       "      <td>-0.007519</td>\n",
       "      <td>-0.040969</td>\n",
       "      <td>-0.044788</td>\n",
       "      <td>0.010276</td>\n",
       "      <td>-0.000262</td>\n",
       "      <td>...</td>\n",
       "      <td>-0.004906</td>\n",
       "      <td>0.015495</td>\n",
       "      <td>0.037048</td>\n",
       "      <td>1.000000</td>\n",
       "      <td>0.023479</td>\n",
       "      <td>0.045719</td>\n",
       "      <td>0.015773</td>\n",
       "      <td>0.010518</td>\n",
       "      <td>-0.068624</td>\n",
       "      <td>0.124429</td>\n",
       "    </tr>\n",
       "    <tr>\n",
       "      <th>ExperienceYearsAtThisCompany</th>\n",
       "      <td>0.318852</td>\n",
       "      <td>-0.030392</td>\n",
       "      <td>-0.009887</td>\n",
       "      <td>-0.075728</td>\n",
       "      <td>0.047677</td>\n",
       "      <td>-0.009047</td>\n",
       "      <td>-0.015029</td>\n",
       "      <td>0.021908</td>\n",
       "      <td>0.076332</td>\n",
       "      <td>-0.000561</td>\n",
       "      <td>...</td>\n",
       "      <td>0.015612</td>\n",
       "      <td>0.633555</td>\n",
       "      <td>0.008564</td>\n",
       "      <td>0.023479</td>\n",
       "      <td>1.000000</td>\n",
       "      <td>0.764102</td>\n",
       "      <td>0.620230</td>\n",
       "      <td>0.759258</td>\n",
       "      <td>-0.142456</td>\n",
       "      <td>-0.111645</td>\n",
       "    </tr>\n",
       "    <tr>\n",
       "      <th>ExperienceYearsInCurrentRole</th>\n",
       "      <td>0.217163</td>\n",
       "      <td>-0.031823</td>\n",
       "      <td>-0.003215</td>\n",
       "      <td>-0.076663</td>\n",
       "      <td>0.069602</td>\n",
       "      <td>0.019383</td>\n",
       "      <td>-0.006541</td>\n",
       "      <td>0.019898</td>\n",
       "      <td>0.066672</td>\n",
       "      <td>0.025491</td>\n",
       "      <td>...</td>\n",
       "      <td>-0.032131</td>\n",
       "      <td>0.460700</td>\n",
       "      <td>0.010222</td>\n",
       "      <td>0.045719</td>\n",
       "      <td>0.764102</td>\n",
       "      <td>1.000000</td>\n",
       "      <td>0.540600</td>\n",
       "      <td>0.728973</td>\n",
       "      <td>-0.173895</td>\n",
       "      <td>-0.147638</td>\n",
       "    </tr>\n",
       "    <tr>\n",
       "      <th>YearsSinceLastPromotion</th>\n",
       "      <td>0.228199</td>\n",
       "      <td>-0.021575</td>\n",
       "      <td>0.014277</td>\n",
       "      <td>-0.052951</td>\n",
       "      <td>0.052315</td>\n",
       "      <td>0.012190</td>\n",
       "      <td>-0.020824</td>\n",
       "      <td>0.013246</td>\n",
       "      <td>0.054313</td>\n",
       "      <td>0.010732</td>\n",
       "      <td>...</td>\n",
       "      <td>0.026253</td>\n",
       "      <td>0.412781</td>\n",
       "      <td>0.018831</td>\n",
       "      <td>0.015773</td>\n",
       "      <td>0.620230</td>\n",
       "      <td>0.540600</td>\n",
       "      <td>1.000000</td>\n",
       "      <td>0.491199</td>\n",
       "      <td>-0.057199</td>\n",
       "      <td>-0.167629</td>\n",
       "    </tr>\n",
       "    <tr>\n",
       "      <th>YearsWithCurrManager</th>\n",
       "      <td>0.205098</td>\n",
       "      <td>-0.036643</td>\n",
       "      <td>0.002767</td>\n",
       "      <td>-0.061908</td>\n",
       "      <td>0.033850</td>\n",
       "      <td>-0.004504</td>\n",
       "      <td>-0.028073</td>\n",
       "      <td>0.017860</td>\n",
       "      <td>0.088988</td>\n",
       "      <td>-0.011702</td>\n",
       "      <td>...</td>\n",
       "      <td>-0.006426</td>\n",
       "      <td>0.460783</td>\n",
       "      <td>-0.013237</td>\n",
       "      <td>0.010518</td>\n",
       "      <td>0.759258</td>\n",
       "      <td>0.728973</td>\n",
       "      <td>0.491199</td>\n",
       "      <td>1.000000</td>\n",
       "      <td>-0.158745</td>\n",
       "      <td>-0.122313</td>\n",
       "    </tr>\n",
       "    <tr>\n",
       "      <th>Attrition</th>\n",
       "      <td>-0.189317</td>\n",
       "      <td>0.035758</td>\n",
       "      <td>0.027161</td>\n",
       "      <td>0.162969</td>\n",
       "      <td>0.048006</td>\n",
       "      <td>0.037508</td>\n",
       "      <td>0.007217</td>\n",
       "      <td>0.063248</td>\n",
       "      <td>-0.049118</td>\n",
       "      <td>-0.123490</td>\n",
       "      <td>...</td>\n",
       "      <td>-0.037179</td>\n",
       "      <td>-0.185226</td>\n",
       "      <td>-0.035047</td>\n",
       "      <td>-0.068624</td>\n",
       "      <td>-0.142456</td>\n",
       "      <td>-0.173895</td>\n",
       "      <td>-0.057199</td>\n",
       "      <td>-0.158745</td>\n",
       "      <td>1.000000</td>\n",
       "      <td>-0.039796</td>\n",
       "    </tr>\n",
       "    <tr>\n",
       "      <th>PerformanceRating</th>\n",
       "      <td>-0.040164</td>\n",
       "      <td>-0.001780</td>\n",
       "      <td>0.005607</td>\n",
       "      <td>0.024172</td>\n",
       "      <td>-0.162615</td>\n",
       "      <td>-0.096209</td>\n",
       "      <td>-0.031025</td>\n",
       "      <td>-0.046142</td>\n",
       "      <td>0.020529</td>\n",
       "      <td>0.395561</td>\n",
       "      <td>...</td>\n",
       "      <td>-0.019502</td>\n",
       "      <td>-0.068141</td>\n",
       "      <td>-0.005443</td>\n",
       "      <td>0.124429</td>\n",
       "      <td>-0.111645</td>\n",
       "      <td>-0.147638</td>\n",
       "      <td>-0.167629</td>\n",
       "      <td>-0.122313</td>\n",
       "      <td>-0.039796</td>\n",
       "      <td>1.000000</td>\n",
       "    </tr>\n",
       "  </tbody>\n",
       "</table>\n",
       "<p>27 rows × 27 columns</p>\n",
       "</div>"
      ],
      "text/plain": [
       "                                   Age    Gender  EducationBackground  \\\n",
       "Age                           1.000000 -0.040107            -0.055905   \n",
       "Gender                       -0.040107  1.000000             0.009922   \n",
       "EducationBackground          -0.055905  0.009922             1.000000   \n",
       "MaritalStatus                -0.098368 -0.042169            -0.001097   \n",
       "EmpDepartment                -0.000104 -0.010925            -0.026874   \n",
       "EmpJobRole                   -0.037665  0.011332            -0.012325   \n",
       "BusinessTravelFrequency       0.040579 -0.043608             0.012382   \n",
       "DistanceFromHome              0.020937 -0.001507            -0.013919   \n",
       "EmpEducationLevel             0.207313 -0.022960            -0.047978   \n",
       "EmpEnvironmentSatisfaction    0.013814  0.000033             0.045028   \n",
       "EmpHourlyRate                 0.062867  0.002218            -0.030234   \n",
       "EmpJobInvolvement             0.027216  0.010949            -0.025505   \n",
       "EmpJobLevel                   0.509139 -0.050685            -0.056338   \n",
       "EmpJobSatisfaction           -0.002436  0.024680            -0.030977   \n",
       "NumCompaniesWorked            0.284408 -0.036675            -0.032879   \n",
       "OverTime                      0.051910 -0.038410             0.007046   \n",
       "EmpLastSalaryHikePercent     -0.006105 -0.005319            -0.009788   \n",
       "EmpRelationshipSatisfaction   0.049749  0.030707             0.005652   \n",
       "TotalWorkExperienceInYears    0.680886 -0.061055            -0.027929   \n",
       "TrainingTimesLastYear        -0.016053 -0.057654             0.051596   \n",
       "EmpWorkLifeBalance           -0.019563  0.015793             0.022890   \n",
       "ExperienceYearsAtThisCompany  0.318852 -0.030392            -0.009887   \n",
       "ExperienceYearsInCurrentRole  0.217163 -0.031823            -0.003215   \n",
       "YearsSinceLastPromotion       0.228199 -0.021575             0.014277   \n",
       "YearsWithCurrManager          0.205098 -0.036643             0.002767   \n",
       "Attrition                    -0.189317  0.035758             0.027161   \n",
       "PerformanceRating            -0.040164 -0.001780             0.005607   \n",
       "\n",
       "                              MaritalStatus  EmpDepartment  EmpJobRole  \\\n",
       "Age                               -0.098368      -0.000104   -0.037665   \n",
       "Gender                            -0.042169      -0.010925    0.011332   \n",
       "EducationBackground               -0.001097      -0.026874   -0.012325   \n",
       "MaritalStatus                      1.000000       0.067272    0.038023   \n",
       "EmpDepartment                      0.067272       1.000000    0.568973   \n",
       "EmpJobRole                         0.038023       0.568973    1.000000   \n",
       "BusinessTravelFrequency            0.028520      -0.045233   -0.086251   \n",
       "DistanceFromHome                  -0.019148       0.007707    0.022939   \n",
       "EmpEducationLevel                  0.026737       0.019175   -0.016792   \n",
       "EmpEnvironmentSatisfaction        -0.032467      -0.019237    0.044612   \n",
       "EmpHourlyRate                     -0.013540       0.003957   -0.016179   \n",
       "EmpJobInvolvement                 -0.043355      -0.076988   -0.008034   \n",
       "EmpJobLevel                       -0.087359       0.100526    0.004406   \n",
       "EmpJobSatisfaction                 0.044593       0.007150    0.032916   \n",
       "NumCompaniesWorked                -0.030095      -0.033950   -0.009111   \n",
       "OverTime                          -0.022833      -0.026841    0.015075   \n",
       "EmpLastSalaryHikePercent           0.010128      -0.012661    0.005735   \n",
       "EmpRelationshipSatisfaction        0.026410      -0.050286   -0.043067   \n",
       "TotalWorkExperienceInYears        -0.093537       0.016065   -0.049529   \n",
       "TrainingTimesLastYear              0.026045       0.016438    0.004452   \n",
       "EmpWorkLifeBalance                 0.014154       0.068875   -0.007519   \n",
       "ExperienceYearsAtThisCompany      -0.075728       0.047677   -0.009047   \n",
       "ExperienceYearsInCurrentRole      -0.076663       0.069602    0.019383   \n",
       "YearsSinceLastPromotion           -0.052951       0.052315    0.012190   \n",
       "YearsWithCurrManager              -0.061908       0.033850   -0.004504   \n",
       "Attrition                          0.162969       0.048006    0.037508   \n",
       "PerformanceRating                  0.024172      -0.162615   -0.096209   \n",
       "\n",
       "                              BusinessTravelFrequency  DistanceFromHome  \\\n",
       "Age                                          0.040579          0.020937   \n",
       "Gender                                      -0.043608         -0.001507   \n",
       "EducationBackground                          0.012382         -0.013919   \n",
       "MaritalStatus                                0.028520         -0.019148   \n",
       "EmpDepartment                               -0.045233          0.007707   \n",
       "EmpJobRole                                  -0.086251          0.022939   \n",
       "BusinessTravelFrequency                      1.000000         -0.020935   \n",
       "DistanceFromHome                            -0.020935          1.000000   \n",
       "EmpEducationLevel                            0.002064          0.045856   \n",
       "EmpEnvironmentSatisfaction                   0.012267         -0.017719   \n",
       "EmpHourlyRate                                0.025400          0.013730   \n",
       "EmpJobInvolvement                            0.016652          0.003231   \n",
       "EmpJobLevel                                  0.036360          0.017270   \n",
       "EmpJobSatisfaction                          -0.031236         -0.003036   \n",
       "NumCompaniesWorked                           0.021476         -0.021411   \n",
       "OverTime                                     0.032229          0.024940   \n",
       "EmpLastSalaryHikePercent                    -0.041946          0.044974   \n",
       "EmpRelationshipSatisfaction                 -0.032705         -0.009509   \n",
       "TotalWorkExperienceInYears                   0.042736          0.027306   \n",
       "TrainingTimesLastYear                        0.006720         -0.032082   \n",
       "EmpWorkLifeBalance                          -0.040969         -0.044788   \n",
       "ExperienceYearsAtThisCompany                -0.015029          0.021908   \n",
       "ExperienceYearsInCurrentRole                -0.006541          0.019898   \n",
       "YearsSinceLastPromotion                     -0.020824          0.013246   \n",
       "YearsWithCurrManager                        -0.028073          0.017860   \n",
       "Attrition                                    0.007217          0.063248   \n",
       "PerformanceRating                           -0.031025         -0.046142   \n",
       "\n",
       "                              EmpEducationLevel  EmpEnvironmentSatisfaction  \\\n",
       "Age                                    0.207313                    0.013814   \n",
       "Gender                                -0.022960                    0.000033   \n",
       "EducationBackground                   -0.047978                    0.045028   \n",
       "MaritalStatus                          0.026737                   -0.032467   \n",
       "EmpDepartment                          0.019175                   -0.019237   \n",
       "EmpJobRole                            -0.016792                    0.044612   \n",
       "BusinessTravelFrequency                0.002064                    0.012267   \n",
       "DistanceFromHome                       0.045856                   -0.017719   \n",
       "EmpEducationLevel                      1.000000                   -0.037103   \n",
       "EmpEnvironmentSatisfaction            -0.037103                    1.000000   \n",
       "EmpHourlyRate                          0.014095                   -0.049501   \n",
       "EmpJobInvolvement                      0.027544                    0.004865   \n",
       "EmpJobLevel                            0.100734                   -0.008272   \n",
       "EmpJobSatisfaction                     0.000357                   -0.004319   \n",
       "NumCompaniesWorked                     0.128674                    0.017270   \n",
       "OverTime                              -0.021119                    0.064270   \n",
       "EmpLastSalaryHikePercent               0.002358                   -0.047271   \n",
       "EmpRelationshipSatisfaction           -0.016690                   -0.010504   \n",
       "TotalWorkExperienceInYears             0.151062                   -0.012894   \n",
       "TrainingTimesLastYear                 -0.013674                    0.001192   \n",
       "EmpWorkLifeBalance                     0.010276                   -0.000262   \n",
       "ExperienceYearsAtThisCompany           0.076332                   -0.000561   \n",
       "ExperienceYearsInCurrentRole           0.066672                    0.025491   \n",
       "YearsSinceLastPromotion                0.054313                    0.010732   \n",
       "YearsWithCurrManager                   0.088988                   -0.011702   \n",
       "Attrition                             -0.049118                   -0.123490   \n",
       "PerformanceRating                      0.020529                    0.395561   \n",
       "\n",
       "                              ...  EmpRelationshipSatisfaction  \\\n",
       "Age                           ...                     0.049749   \n",
       "Gender                        ...                     0.030707   \n",
       "EducationBackground           ...                     0.005652   \n",
       "MaritalStatus                 ...                     0.026410   \n",
       "EmpDepartment                 ...                    -0.050286   \n",
       "EmpJobRole                    ...                    -0.043067   \n",
       "BusinessTravelFrequency       ...                    -0.032705   \n",
       "DistanceFromHome              ...                    -0.009509   \n",
       "EmpEducationLevel             ...                    -0.016690   \n",
       "EmpEnvironmentSatisfaction    ...                    -0.010504   \n",
       "EmpHourlyRate                 ...                     0.008783   \n",
       "EmpJobInvolvement             ...                     0.018037   \n",
       "EmpJobLevel                   ...                     0.002992   \n",
       "EmpJobSatisfaction            ...                    -0.022028   \n",
       "NumCompaniesWorked            ...                     0.057917   \n",
       "OverTime                      ...                     0.034146   \n",
       "EmpLastSalaryHikePercent      ...                    -0.042892   \n",
       "EmpRelationshipSatisfaction   ...                     1.000000   \n",
       "TotalWorkExperienceInYears    ...                     0.018089   \n",
       "TrainingTimesLastYear         ...                     0.025975   \n",
       "EmpWorkLifeBalance            ...                    -0.004906   \n",
       "ExperienceYearsAtThisCompany  ...                     0.015612   \n",
       "ExperienceYearsInCurrentRole  ...                    -0.032131   \n",
       "YearsSinceLastPromotion       ...                     0.026253   \n",
       "YearsWithCurrManager          ...                    -0.006426   \n",
       "Attrition                     ...                    -0.037179   \n",
       "PerformanceRating             ...                    -0.019502   \n",
       "\n",
       "                              TotalWorkExperienceInYears  \\\n",
       "Age                                             0.680886   \n",
       "Gender                                         -0.061055   \n",
       "EducationBackground                            -0.027929   \n",
       "MaritalStatus                                  -0.093537   \n",
       "EmpDepartment                                   0.016065   \n",
       "EmpJobRole                                     -0.049529   \n",
       "BusinessTravelFrequency                         0.042736   \n",
       "DistanceFromHome                                0.027306   \n",
       "EmpEducationLevel                               0.151062   \n",
       "EmpEnvironmentSatisfaction                     -0.012894   \n",
       "EmpHourlyRate                                   0.026034   \n",
       "EmpJobInvolvement                              -0.028851   \n",
       "EmpJobLevel                                     0.784229   \n",
       "EmpJobSatisfaction                             -0.026824   \n",
       "NumCompaniesWorked                              0.221505   \n",
       "OverTime                                        0.044233   \n",
       "EmpLastSalaryHikePercent                       -0.005933   \n",
       "EmpRelationshipSatisfaction                     0.018089   \n",
       "TotalWorkExperienceInYears                      1.000000   \n",
       "TrainingTimesLastYear                          -0.022113   \n",
       "EmpWorkLifeBalance                              0.015495   \n",
       "ExperienceYearsAtThisCompany                    0.633555   \n",
       "ExperienceYearsInCurrentRole                    0.460700   \n",
       "YearsSinceLastPromotion                         0.412781   \n",
       "YearsWithCurrManager                            0.460783   \n",
       "Attrition                                      -0.185226   \n",
       "PerformanceRating                              -0.068141   \n",
       "\n",
       "                              TrainingTimesLastYear  EmpWorkLifeBalance  \\\n",
       "Age                                       -0.016053           -0.019563   \n",
       "Gender                                    -0.057654            0.015793   \n",
       "EducationBackground                        0.051596            0.022890   \n",
       "MaritalStatus                              0.026045            0.014154   \n",
       "EmpDepartment                              0.016438            0.068875   \n",
       "EmpJobRole                                 0.004452           -0.007519   \n",
       "BusinessTravelFrequency                    0.006720           -0.040969   \n",
       "DistanceFromHome                          -0.032082           -0.044788   \n",
       "EmpEducationLevel                         -0.013674            0.010276   \n",
       "EmpEnvironmentSatisfaction                 0.001192           -0.000262   \n",
       "EmpHourlyRate                             -0.024160            0.016189   \n",
       "EmpJobInvolvement                         -0.025168           -0.014129   \n",
       "EmpJobLevel                               -0.000389            0.049218   \n",
       "EmpJobSatisfaction                        -0.028031           -0.018548   \n",
       "NumCompaniesWorked                        -0.050817            0.002489   \n",
       "OverTime                                  -0.061398           -0.027968   \n",
       "EmpLastSalaryHikePercent                  -0.013439           -0.017001   \n",
       "EmpRelationshipSatisfaction                0.025975           -0.004906   \n",
       "TotalWorkExperienceInYears                -0.022113            0.015495   \n",
       "TrainingTimesLastYear                      1.000000            0.037048   \n",
       "EmpWorkLifeBalance                         0.037048            1.000000   \n",
       "ExperienceYearsAtThisCompany               0.008564            0.023479   \n",
       "ExperienceYearsInCurrentRole               0.010222            0.045719   \n",
       "YearsSinceLastPromotion                    0.018831            0.015773   \n",
       "YearsWithCurrManager                      -0.013237            0.010518   \n",
       "Attrition                                 -0.035047           -0.068624   \n",
       "PerformanceRating                         -0.005443            0.124429   \n",
       "\n",
       "                              ExperienceYearsAtThisCompany  \\\n",
       "Age                                               0.318852   \n",
       "Gender                                           -0.030392   \n",
       "EducationBackground                              -0.009887   \n",
       "MaritalStatus                                    -0.075728   \n",
       "EmpDepartment                                     0.047677   \n",
       "EmpJobRole                                       -0.009047   \n",
       "BusinessTravelFrequency                          -0.015029   \n",
       "DistanceFromHome                                  0.021908   \n",
       "EmpEducationLevel                                 0.076332   \n",
       "EmpEnvironmentSatisfaction                       -0.000561   \n",
       "EmpHourlyRate                                    -0.000399   \n",
       "EmpJobInvolvement                                -0.039720   \n",
       "EmpJobLevel                                       0.540377   \n",
       "EmpJobSatisfaction                                0.001807   \n",
       "NumCompaniesWorked                               -0.129797   \n",
       "OverTime                                          0.004295   \n",
       "EmpLastSalaryHikePercent                         -0.019830   \n",
       "EmpRelationshipSatisfaction                       0.015612   \n",
       "TotalWorkExperienceInYears                        0.633555   \n",
       "TrainingTimesLastYear                             0.008564   \n",
       "EmpWorkLifeBalance                                0.023479   \n",
       "ExperienceYearsAtThisCompany                      1.000000   \n",
       "ExperienceYearsInCurrentRole                      0.764102   \n",
       "YearsSinceLastPromotion                           0.620230   \n",
       "YearsWithCurrManager                              0.759258   \n",
       "Attrition                                        -0.142456   \n",
       "PerformanceRating                                -0.111645   \n",
       "\n",
       "                              ExperienceYearsInCurrentRole  \\\n",
       "Age                                               0.217163   \n",
       "Gender                                           -0.031823   \n",
       "EducationBackground                              -0.003215   \n",
       "MaritalStatus                                    -0.076663   \n",
       "EmpDepartment                                     0.069602   \n",
       "EmpJobRole                                        0.019383   \n",
       "BusinessTravelFrequency                          -0.006541   \n",
       "DistanceFromHome                                  0.019898   \n",
       "EmpEducationLevel                                 0.066672   \n",
       "EmpEnvironmentSatisfaction                        0.025491   \n",
       "EmpHourlyRate                                    -0.011871   \n",
       "EmpJobInvolvement                                 0.002910   \n",
       "EmpJobLevel                                       0.399235   \n",
       "EmpJobSatisfaction                                0.002018   \n",
       "NumCompaniesWorked                               -0.097271   \n",
       "OverTime                                         -0.015674   \n",
       "EmpLastSalaryHikePercent                         -0.004957   \n",
       "EmpRelationshipSatisfaction                      -0.032131   \n",
       "TotalWorkExperienceInYears                        0.460700   \n",
       "TrainingTimesLastYear                             0.010222   \n",
       "EmpWorkLifeBalance                                0.045719   \n",
       "ExperienceYearsAtThisCompany                      0.764102   \n",
       "ExperienceYearsInCurrentRole                      1.000000   \n",
       "YearsSinceLastPromotion                           0.540600   \n",
       "YearsWithCurrManager                              0.728973   \n",
       "Attrition                                        -0.173895   \n",
       "PerformanceRating                                -0.147638   \n",
       "\n",
       "                              YearsSinceLastPromotion  YearsWithCurrManager  \\\n",
       "Age                                          0.228199              0.205098   \n",
       "Gender                                      -0.021575             -0.036643   \n",
       "EducationBackground                          0.014277              0.002767   \n",
       "MaritalStatus                               -0.052951             -0.061908   \n",
       "EmpDepartment                                0.052315              0.033850   \n",
       "EmpJobRole                                   0.012190             -0.004504   \n",
       "BusinessTravelFrequency                     -0.020824             -0.028073   \n",
       "DistanceFromHome                             0.013246              0.017860   \n",
       "EmpEducationLevel                            0.054313              0.088988   \n",
       "EmpEnvironmentSatisfaction                   0.010732             -0.011702   \n",
       "EmpHourlyRate                               -0.010000             -0.004576   \n",
       "EmpJobInvolvement                           -0.019944              0.012924   \n",
       "EmpJobLevel                                  0.360880              0.374872   \n",
       "EmpJobSatisfaction                          -0.006508             -0.022096   \n",
       "NumCompaniesWorked                          -0.031656             -0.109937   \n",
       "OverTime                                     0.000261             -0.028447   \n",
       "EmpLastSalaryHikePercent                    -0.015911             -0.007666   \n",
       "EmpRelationshipSatisfaction                  0.026253             -0.006426   \n",
       "TotalWorkExperienceInYears                   0.412781              0.460783   \n",
       "TrainingTimesLastYear                        0.018831             -0.013237   \n",
       "EmpWorkLifeBalance                           0.015773              0.010518   \n",
       "ExperienceYearsAtThisCompany                 0.620230              0.759258   \n",
       "ExperienceYearsInCurrentRole                 0.540600              0.728973   \n",
       "YearsSinceLastPromotion                      1.000000              0.491199   \n",
       "YearsWithCurrManager                         0.491199              1.000000   \n",
       "Attrition                                   -0.057199             -0.158745   \n",
       "PerformanceRating                           -0.167629             -0.122313   \n",
       "\n",
       "                              Attrition  PerformanceRating  \n",
       "Age                           -0.189317          -0.040164  \n",
       "Gender                         0.035758          -0.001780  \n",
       "EducationBackground            0.027161           0.005607  \n",
       "MaritalStatus                  0.162969           0.024172  \n",
       "EmpDepartment                  0.048006          -0.162615  \n",
       "EmpJobRole                     0.037508          -0.096209  \n",
       "BusinessTravelFrequency        0.007217          -0.031025  \n",
       "DistanceFromHome               0.063248          -0.046142  \n",
       "EmpEducationLevel             -0.049118           0.020529  \n",
       "EmpEnvironmentSatisfaction    -0.123490           0.395561  \n",
       "EmpHourlyRate                 -0.026313          -0.043116  \n",
       "EmpJobInvolvement             -0.153360          -0.010539  \n",
       "EmpJobLevel                   -0.175763          -0.076632  \n",
       "EmpJobSatisfaction            -0.081783           0.000606  \n",
       "NumCompaniesWorked             0.037643           0.020980  \n",
       "OverTime                       0.224535           0.050206  \n",
       "EmpLastSalaryHikePercent      -0.009448           0.333722  \n",
       "EmpRelationshipSatisfaction   -0.037179          -0.019502  \n",
       "TotalWorkExperienceInYears    -0.185226          -0.068141  \n",
       "TrainingTimesLastYear         -0.035047          -0.005443  \n",
       "EmpWorkLifeBalance            -0.068624           0.124429  \n",
       "ExperienceYearsAtThisCompany  -0.142456          -0.111645  \n",
       "ExperienceYearsInCurrentRole  -0.173895          -0.147638  \n",
       "YearsSinceLastPromotion       -0.057199          -0.167629  \n",
       "YearsWithCurrManager          -0.158745          -0.122313  \n",
       "Attrition                      1.000000          -0.039796  \n",
       "PerformanceRating             -0.039796           1.000000  \n",
       "\n",
       "[27 rows x 27 columns]"
      ]
     },
     "execution_count": 15,
     "metadata": {},
     "output_type": "execute_result"
    }
   ],
   "source": [
    "# Finding out the correlation coeffecient to find out which predictors are significant.\n",
    "data.corr()"
   ]
  },
  {
   "cell_type": "code",
   "execution_count": 16,
   "metadata": {},
   "outputs": [],
   "source": [
    "# Dropping the first columns as it is of no use for analysis.\n",
    "data.drop(['EmpNumber'],inplace=True,axis=1)"
   ]
  },
  {
   "cell_type": "code",
   "execution_count": 17,
   "metadata": {},
   "outputs": [
    {
     "data": {
      "text/html": [
       "<div>\n",
       "<style scoped>\n",
       "    .dataframe tbody tr th:only-of-type {\n",
       "        vertical-align: middle;\n",
       "    }\n",
       "\n",
       "    .dataframe tbody tr th {\n",
       "        vertical-align: top;\n",
       "    }\n",
       "\n",
       "    .dataframe thead th {\n",
       "        text-align: right;\n",
       "    }\n",
       "</style>\n",
       "<table border=\"1\" class=\"dataframe\">\n",
       "  <thead>\n",
       "    <tr style=\"text-align: right;\">\n",
       "      <th></th>\n",
       "      <th>Age</th>\n",
       "      <th>Gender</th>\n",
       "      <th>EducationBackground</th>\n",
       "      <th>MaritalStatus</th>\n",
       "      <th>EmpDepartment</th>\n",
       "      <th>EmpJobRole</th>\n",
       "      <th>BusinessTravelFrequency</th>\n",
       "      <th>DistanceFromHome</th>\n",
       "      <th>EmpEducationLevel</th>\n",
       "      <th>EmpEnvironmentSatisfaction</th>\n",
       "      <th>...</th>\n",
       "      <th>EmpRelationshipSatisfaction</th>\n",
       "      <th>TotalWorkExperienceInYears</th>\n",
       "      <th>TrainingTimesLastYear</th>\n",
       "      <th>EmpWorkLifeBalance</th>\n",
       "      <th>ExperienceYearsAtThisCompany</th>\n",
       "      <th>ExperienceYearsInCurrentRole</th>\n",
       "      <th>YearsSinceLastPromotion</th>\n",
       "      <th>YearsWithCurrManager</th>\n",
       "      <th>Attrition</th>\n",
       "      <th>PerformanceRating</th>\n",
       "    </tr>\n",
       "  </thead>\n",
       "  <tbody>\n",
       "    <tr>\n",
       "      <th>0</th>\n",
       "      <td>32</td>\n",
       "      <td>1</td>\n",
       "      <td>2</td>\n",
       "      <td>2</td>\n",
       "      <td>5</td>\n",
       "      <td>13</td>\n",
       "      <td>2</td>\n",
       "      <td>10</td>\n",
       "      <td>3</td>\n",
       "      <td>4</td>\n",
       "      <td>...</td>\n",
       "      <td>4</td>\n",
       "      <td>10</td>\n",
       "      <td>2</td>\n",
       "      <td>2</td>\n",
       "      <td>10</td>\n",
       "      <td>7</td>\n",
       "      <td>0</td>\n",
       "      <td>8</td>\n",
       "      <td>0</td>\n",
       "      <td>3</td>\n",
       "    </tr>\n",
       "    <tr>\n",
       "      <th>1</th>\n",
       "      <td>47</td>\n",
       "      <td>1</td>\n",
       "      <td>2</td>\n",
       "      <td>2</td>\n",
       "      <td>5</td>\n",
       "      <td>13</td>\n",
       "      <td>2</td>\n",
       "      <td>14</td>\n",
       "      <td>4</td>\n",
       "      <td>4</td>\n",
       "      <td>...</td>\n",
       "      <td>4</td>\n",
       "      <td>20</td>\n",
       "      <td>2</td>\n",
       "      <td>3</td>\n",
       "      <td>7</td>\n",
       "      <td>7</td>\n",
       "      <td>1</td>\n",
       "      <td>7</td>\n",
       "      <td>0</td>\n",
       "      <td>3</td>\n",
       "    </tr>\n",
       "    <tr>\n",
       "      <th>2</th>\n",
       "      <td>40</td>\n",
       "      <td>1</td>\n",
       "      <td>1</td>\n",
       "      <td>1</td>\n",
       "      <td>5</td>\n",
       "      <td>13</td>\n",
       "      <td>1</td>\n",
       "      <td>5</td>\n",
       "      <td>4</td>\n",
       "      <td>4</td>\n",
       "      <td>...</td>\n",
       "      <td>3</td>\n",
       "      <td>20</td>\n",
       "      <td>2</td>\n",
       "      <td>3</td>\n",
       "      <td>18</td>\n",
       "      <td>13</td>\n",
       "      <td>1</td>\n",
       "      <td>12</td>\n",
       "      <td>0</td>\n",
       "      <td>4</td>\n",
       "    </tr>\n",
       "    <tr>\n",
       "      <th>3</th>\n",
       "      <td>41</td>\n",
       "      <td>1</td>\n",
       "      <td>0</td>\n",
       "      <td>0</td>\n",
       "      <td>3</td>\n",
       "      <td>8</td>\n",
       "      <td>2</td>\n",
       "      <td>10</td>\n",
       "      <td>4</td>\n",
       "      <td>2</td>\n",
       "      <td>...</td>\n",
       "      <td>2</td>\n",
       "      <td>23</td>\n",
       "      <td>2</td>\n",
       "      <td>2</td>\n",
       "      <td>21</td>\n",
       "      <td>6</td>\n",
       "      <td>12</td>\n",
       "      <td>6</td>\n",
       "      <td>0</td>\n",
       "      <td>3</td>\n",
       "    </tr>\n",
       "    <tr>\n",
       "      <th>4</th>\n",
       "      <td>60</td>\n",
       "      <td>1</td>\n",
       "      <td>2</td>\n",
       "      <td>2</td>\n",
       "      <td>5</td>\n",
       "      <td>13</td>\n",
       "      <td>2</td>\n",
       "      <td>16</td>\n",
       "      <td>4</td>\n",
       "      <td>1</td>\n",
       "      <td>...</td>\n",
       "      <td>4</td>\n",
       "      <td>10</td>\n",
       "      <td>1</td>\n",
       "      <td>3</td>\n",
       "      <td>2</td>\n",
       "      <td>2</td>\n",
       "      <td>2</td>\n",
       "      <td>2</td>\n",
       "      <td>0</td>\n",
       "      <td>3</td>\n",
       "    </tr>\n",
       "  </tbody>\n",
       "</table>\n",
       "<p>5 rows × 27 columns</p>\n",
       "</div>"
      ],
      "text/plain": [
       "   Age  Gender  EducationBackground  MaritalStatus  EmpDepartment  EmpJobRole  \\\n",
       "0   32       1                    2              2              5          13   \n",
       "1   47       1                    2              2              5          13   \n",
       "2   40       1                    1              1              5          13   \n",
       "3   41       1                    0              0              3           8   \n",
       "4   60       1                    2              2              5          13   \n",
       "\n",
       "   BusinessTravelFrequency  DistanceFromHome  EmpEducationLevel  \\\n",
       "0                        2                10                  3   \n",
       "1                        2                14                  4   \n",
       "2                        1                 5                  4   \n",
       "3                        2                10                  4   \n",
       "4                        2                16                  4   \n",
       "\n",
       "   EmpEnvironmentSatisfaction  ...  EmpRelationshipSatisfaction  \\\n",
       "0                           4  ...                            4   \n",
       "1                           4  ...                            4   \n",
       "2                           4  ...                            3   \n",
       "3                           2  ...                            2   \n",
       "4                           1  ...                            4   \n",
       "\n",
       "   TotalWorkExperienceInYears  TrainingTimesLastYear  EmpWorkLifeBalance  \\\n",
       "0                          10                      2                   2   \n",
       "1                          20                      2                   3   \n",
       "2                          20                      2                   3   \n",
       "3                          23                      2                   2   \n",
       "4                          10                      1                   3   \n",
       "\n",
       "   ExperienceYearsAtThisCompany  ExperienceYearsInCurrentRole  \\\n",
       "0                            10                             7   \n",
       "1                             7                             7   \n",
       "2                            18                            13   \n",
       "3                            21                             6   \n",
       "4                             2                             2   \n",
       "\n",
       "   YearsSinceLastPromotion  YearsWithCurrManager  Attrition  PerformanceRating  \n",
       "0                        0                     8          0                  3  \n",
       "1                        1                     7          0                  3  \n",
       "2                        1                    12          0                  4  \n",
       "3                       12                     6          0                  3  \n",
       "4                        2                     2          0                  3  \n",
       "\n",
       "[5 rows x 27 columns]"
      ]
     },
     "execution_count": 17,
     "metadata": {},
     "output_type": "execute_result"
    }
   ],
   "source": [
    "data.head()"
   ]
  },
  {
   "cell_type": "code",
   "execution_count": 18,
   "metadata": {},
   "outputs": [
    {
     "data": {
      "text/html": [
       "<div>\n",
       "<style scoped>\n",
       "    .dataframe tbody tr th:only-of-type {\n",
       "        vertical-align: middle;\n",
       "    }\n",
       "\n",
       "    .dataframe tbody tr th {\n",
       "        vertical-align: top;\n",
       "    }\n",
       "\n",
       "    .dataframe thead th {\n",
       "        text-align: right;\n",
       "    }\n",
       "</style>\n",
       "<table border=\"1\" class=\"dataframe\">\n",
       "  <thead>\n",
       "    <tr style=\"text-align: right;\">\n",
       "      <th></th>\n",
       "      <th>EmpDepartment</th>\n",
       "      <th>EmpJobRole</th>\n",
       "      <th>EmpEnvironmentSatisfaction</th>\n",
       "      <th>EmpLastSalaryHikePercent</th>\n",
       "      <th>EmpWorkLifeBalance</th>\n",
       "      <th>ExperienceYearsAtThisCompany</th>\n",
       "      <th>ExperienceYearsInCurrentRole</th>\n",
       "      <th>YearsSinceLastPromotion</th>\n",
       "      <th>YearsWithCurrManager</th>\n",
       "    </tr>\n",
       "  </thead>\n",
       "  <tbody>\n",
       "    <tr>\n",
       "      <th>0</th>\n",
       "      <td>5</td>\n",
       "      <td>13</td>\n",
       "      <td>4</td>\n",
       "      <td>12</td>\n",
       "      <td>2</td>\n",
       "      <td>10</td>\n",
       "      <td>7</td>\n",
       "      <td>0</td>\n",
       "      <td>8</td>\n",
       "    </tr>\n",
       "    <tr>\n",
       "      <th>1</th>\n",
       "      <td>5</td>\n",
       "      <td>13</td>\n",
       "      <td>4</td>\n",
       "      <td>12</td>\n",
       "      <td>3</td>\n",
       "      <td>7</td>\n",
       "      <td>7</td>\n",
       "      <td>1</td>\n",
       "      <td>7</td>\n",
       "    </tr>\n",
       "    <tr>\n",
       "      <th>2</th>\n",
       "      <td>5</td>\n",
       "      <td>13</td>\n",
       "      <td>4</td>\n",
       "      <td>21</td>\n",
       "      <td>3</td>\n",
       "      <td>18</td>\n",
       "      <td>13</td>\n",
       "      <td>1</td>\n",
       "      <td>12</td>\n",
       "    </tr>\n",
       "    <tr>\n",
       "      <th>3</th>\n",
       "      <td>3</td>\n",
       "      <td>8</td>\n",
       "      <td>2</td>\n",
       "      <td>15</td>\n",
       "      <td>2</td>\n",
       "      <td>21</td>\n",
       "      <td>6</td>\n",
       "      <td>12</td>\n",
       "      <td>6</td>\n",
       "    </tr>\n",
       "    <tr>\n",
       "      <th>4</th>\n",
       "      <td>5</td>\n",
       "      <td>13</td>\n",
       "      <td>1</td>\n",
       "      <td>14</td>\n",
       "      <td>3</td>\n",
       "      <td>2</td>\n",
       "      <td>2</td>\n",
       "      <td>2</td>\n",
       "      <td>2</td>\n",
       "    </tr>\n",
       "  </tbody>\n",
       "</table>\n",
       "</div>"
      ],
      "text/plain": [
       "   EmpDepartment  EmpJobRole  EmpEnvironmentSatisfaction  \\\n",
       "0              5          13                           4   \n",
       "1              5          13                           4   \n",
       "2              5          13                           4   \n",
       "3              3           8                           2   \n",
       "4              5          13                           1   \n",
       "\n",
       "   EmpLastSalaryHikePercent  EmpWorkLifeBalance  ExperienceYearsAtThisCompany  \\\n",
       "0                        12                   2                            10   \n",
       "1                        12                   3                             7   \n",
       "2                        21                   3                            18   \n",
       "3                        15                   2                            21   \n",
       "4                        14                   3                             2   \n",
       "\n",
       "   ExperienceYearsInCurrentRole  YearsSinceLastPromotion  YearsWithCurrManager  \n",
       "0                             7                        0                     8  \n",
       "1                             7                        1                     7  \n",
       "2                            13                        1                    12  \n",
       "3                             6                       12                     6  \n",
       "4                             2                        2                     2  "
      ]
     },
     "execution_count": 18,
     "metadata": {},
     "output_type": "execute_result"
    }
   ],
   "source": [
    "# Here we have selected only the important columns\n",
    "y = data.PerformanceRating\n",
    "#X = data.iloc[:,0:-1]  All predictors were selected it resulted in dropping of accuracy.\n",
    "X = data.iloc[:,[4,5,9,16,20,21,22,23,24]] # Taking only variables with correlation coeffecient greater than 0.1\n",
    "X.head()"
   ]
  },
  {
   "cell_type": "code",
   "execution_count": 19,
   "metadata": {},
   "outputs": [],
   "source": [
    "# Splitting into train and test for calculating the accuracy\n",
    "X_train, X_test, y_train, y_test = train_test_split(X,y,test_size=0.3,random_state=10)"
   ]
  },
  {
   "cell_type": "code",
   "execution_count": 20,
   "metadata": {},
   "outputs": [],
   "source": [
    "# Standardization technique is used\n",
    "sc = StandardScaler()\n",
    "X_train = sc.fit_transform(X_train)\n",
    "X_test = sc.transform(X_test)"
   ]
  },
  {
   "cell_type": "code",
   "execution_count": 21,
   "metadata": {},
   "outputs": [
    {
     "data": {
      "text/plain": [
       "(840, 9)"
      ]
     },
     "execution_count": 21,
     "metadata": {},
     "output_type": "execute_result"
    }
   ],
   "source": [
    "X_train.shape"
   ]
  },
  {
   "cell_type": "code",
   "execution_count": 22,
   "metadata": {},
   "outputs": [
    {
     "data": {
      "text/plain": [
       "(360, 9)"
      ]
     },
     "execution_count": 22,
     "metadata": {},
     "output_type": "execute_result"
    }
   ],
   "source": [
    "X_test.shape"
   ]
  },
  {
   "cell_type": "markdown",
   "metadata": {},
   "source": [
    "#### PCA was used, it resulted in decline of accuracy.\n",
    "    from sklearn.decomposition import PCA\n",
    "    pca=PCA(n_components=None)\n",
    "    X_train=pca.fit_transform(X_train)\n",
    "    X_test=pca.transform(X_test)\n",
    "    pca.explained_variance_ratio_"
   ]
  },
  {
   "cell_type": "markdown",
   "metadata": {},
   "source": [
    "## Models"
   ]
  },
  {
   "cell_type": "markdown",
   "metadata": {},
   "source": [
    "-     In the section below, we used algorithms like Logistic Regression, Support Vector Machine, Decision Tree, Random Forest, Naive Bayes, K-Nearest Neighbor, XGBoost Classifier and Artificial Neural Network to calculate the accuracy and found out that Random Forest with GridSearchCV gives the maximum accuracy of 93%."
   ]
  },
  {
   "cell_type": "markdown",
   "metadata": {},
   "source": [
    "## 1. Logistic Regression"
   ]
  },
  {
   "cell_type": "code",
   "execution_count": 23,
   "metadata": {},
   "outputs": [
    {
     "data": {
      "text/plain": [
       "LogisticRegression(C=1.0, class_weight=None, dual=False, fit_intercept=True,\n",
       "          intercept_scaling=1, max_iter=100, multi_class='warn',\n",
       "          n_jobs=None, penalty='l2', random_state=None, solver='warn',\n",
       "          tol=0.0001, verbose=0, warm_start=False)"
      ]
     },
     "execution_count": 23,
     "metadata": {},
     "output_type": "execute_result"
    }
   ],
   "source": [
    "# Training the model\n",
    "from sklearn.linear_model import LogisticRegression\n",
    "model_logr = LogisticRegression()\n",
    "model_logr.fit(X_train,y_train)"
   ]
  },
  {
   "cell_type": "code",
   "execution_count": 24,
   "metadata": {},
   "outputs": [],
   "source": [
    "# Predicting the model\n",
    "y_predict_log = model_logr.predict(X_test)"
   ]
  },
  {
   "cell_type": "code",
   "execution_count": 25,
   "metadata": {},
   "outputs": [
    {
     "name": "stdout",
     "output_type": "stream",
     "text": [
      "0.8194444444444444\n",
      "              precision    recall  f1-score   support\n",
      "\n",
      "           2       0.68      0.40      0.50        63\n",
      "           3       0.84      0.96      0.90       264\n",
      "           4       0.77      0.52      0.62        33\n",
      "\n",
      "   micro avg       0.82      0.82      0.82       360\n",
      "   macro avg       0.76      0.62      0.67       360\n",
      "weighted avg       0.81      0.82      0.80       360\n",
      "\n"
     ]
    }
   ],
   "source": [
    "# Finding accuracy, precision, recall and confusion matrix\n",
    "print(accuracy_score(y_test,y_predict_log))\n",
    "print(classification_report(y_test,y_predict_log))"
   ]
  },
  {
   "cell_type": "code",
   "execution_count": 26,
   "metadata": {},
   "outputs": [
    {
     "data": {
      "text/plain": [
       "array([[ 25,  35,   3],\n",
       "       [  9, 253,   2],\n",
       "       [  3,  13,  17]], dtype=int64)"
      ]
     },
     "execution_count": 26,
     "metadata": {},
     "output_type": "execute_result"
    }
   ],
   "source": [
    "confusion_matrix(y_test,y_predict_log)"
   ]
  },
  {
   "cell_type": "markdown",
   "metadata": {},
   "source": [
    "## 2. Support Vector Machine"
   ]
  },
  {
   "cell_type": "code",
   "execution_count": 27,
   "metadata": {},
   "outputs": [],
   "source": [
    "# Training the model\n",
    "from sklearn.svm import SVC\n",
    "rbf_svc = SVC(kernel='rbf', C=100, random_state=10).fit(X_train,y_train)"
   ]
  },
  {
   "cell_type": "code",
   "execution_count": 28,
   "metadata": {},
   "outputs": [],
   "source": [
    "# Predicting the model\n",
    "y_predict_svm = rbf_svc.predict(X_test)"
   ]
  },
  {
   "cell_type": "code",
   "execution_count": 29,
   "metadata": {},
   "outputs": [
    {
     "name": "stdout",
     "output_type": "stream",
     "text": [
      "0.8444444444444444\n",
      "              precision    recall  f1-score   support\n",
      "\n",
      "           2       0.74      0.78      0.76        63\n",
      "           3       0.92      0.88      0.90       264\n",
      "           4       0.54      0.67      0.59        33\n",
      "\n",
      "   micro avg       0.84      0.84      0.84       360\n",
      "   macro avg       0.73      0.78      0.75       360\n",
      "weighted avg       0.85      0.84      0.85       360\n",
      "\n"
     ]
    }
   ],
   "source": [
    "# Finding accuracy, precision, recall and confusion matrix\n",
    "print(accuracy_score(y_test,y_predict_svm))\n",
    "print(classification_report(y_test,y_predict_svm))"
   ]
  },
  {
   "cell_type": "code",
   "execution_count": 30,
   "metadata": {},
   "outputs": [
    {
     "data": {
      "text/plain": [
       "array([[ 49,  13,   1],\n",
       "       [ 13, 233,  18],\n",
       "       [  4,   7,  22]], dtype=int64)"
      ]
     },
     "execution_count": 30,
     "metadata": {},
     "output_type": "execute_result"
    }
   ],
   "source": [
    "confusion_matrix(y_test,y_predict_svm)"
   ]
  },
  {
   "cell_type": "markdown",
   "metadata": {},
   "source": [
    "## 3. Decision Tree with GridSearchCV"
   ]
  },
  {
   "cell_type": "code",
   "execution_count": 31,
   "metadata": {},
   "outputs": [
    {
     "data": {
      "text/plain": [
       "GridSearchCV(cv=10, error_score='raise-deprecating',\n",
       "       estimator=DecisionTreeClassifier(class_weight=None, criterion='gini', max_depth=None,\n",
       "            max_features=None, max_leaf_nodes=None,\n",
       "            min_impurity_decrease=0.0, min_impurity_split=None,\n",
       "            min_samples_leaf=1, min_samples_split=2,\n",
       "            min_weight_fraction_leaf=0.0, presort=False, random_state=42,\n",
       "            splitter='best'),\n",
       "       fit_params=None, iid='warn', n_jobs=None,\n",
       "       param_grid=[{'min_samples_split': [2, 3, 4, 5], 'criterion': ['gini']}, {'min_samples_split': [2, 3, 4, 5], 'criterion': ['entropy']}],\n",
       "       pre_dispatch='2*n_jobs', refit=True, return_train_score='warn',\n",
       "       scoring='accuracy', verbose=0)"
      ]
     },
     "execution_count": 31,
     "metadata": {},
     "output_type": "execute_result"
    }
   ],
   "source": [
    "# Training the model\n",
    "from sklearn.tree import DecisionTreeClassifier\n",
    "\n",
    "classifier_dtg=DecisionTreeClassifier(random_state=42,splitter='best')\n",
    "parameters=[{'min_samples_split':[2,3,4,5],'criterion':['gini']},{'min_samples_split':[2,3,4,5],'criterion':['entropy']}]\n",
    "\n",
    "model_griddtree=GridSearchCV(estimator=classifier_dtg, param_grid=parameters, scoring='accuracy',cv=10)\n",
    "model_griddtree.fit(X_train,y_train)"
   ]
  },
  {
   "cell_type": "code",
   "execution_count": 32,
   "metadata": {},
   "outputs": [
    {
     "data": {
      "text/plain": [
       "{'criterion': 'entropy', 'min_samples_split': 5}"
      ]
     },
     "execution_count": 32,
     "metadata": {},
     "output_type": "execute_result"
    }
   ],
   "source": [
    "model_griddtree.best_params_"
   ]
  },
  {
   "cell_type": "code",
   "execution_count": 33,
   "metadata": {},
   "outputs": [],
   "source": [
    "# Predicting the model\n",
    "y_predict_dtree = model_griddtree.predict(X_test)"
   ]
  },
  {
   "cell_type": "code",
   "execution_count": 34,
   "metadata": {},
   "outputs": [
    {
     "name": "stdout",
     "output_type": "stream",
     "text": [
      "0.9055555555555556\n",
      "              precision    recall  f1-score   support\n",
      "\n",
      "           2       0.85      0.83      0.84        63\n",
      "           3       0.94      0.95      0.94       264\n",
      "           4       0.75      0.73      0.74        33\n",
      "\n",
      "   micro avg       0.91      0.91      0.91       360\n",
      "   macro avg       0.85      0.83      0.84       360\n",
      "weighted avg       0.90      0.91      0.90       360\n",
      "\n"
     ]
    }
   ],
   "source": [
    "# Finding accuracy, precision, recall and confusion matrix\n",
    "print(accuracy_score(y_test,y_predict_dtree))\n",
    "print(classification_report(y_test,y_predict_dtree))"
   ]
  },
  {
   "cell_type": "code",
   "execution_count": 35,
   "metadata": {},
   "outputs": [
    {
     "data": {
      "text/plain": [
       "array([[ 52,  10,   1],\n",
       "       [  7, 250,   7],\n",
       "       [  2,   7,  24]], dtype=int64)"
      ]
     },
     "execution_count": 35,
     "metadata": {},
     "output_type": "execute_result"
    }
   ],
   "source": [
    "confusion_matrix(y_test,y_predict_dtree)"
   ]
  },
  {
   "cell_type": "markdown",
   "metadata": {},
   "source": [
    "## 4. Random Forest with GridSearchCV"
   ]
  },
  {
   "cell_type": "code",
   "execution_count": 36,
   "metadata": {},
   "outputs": [
    {
     "data": {
      "text/plain": [
       "GridSearchCV(cv=10, error_score='raise-deprecating',\n",
       "       estimator=RandomForestClassifier(bootstrap=True, class_weight=None, criterion='gini',\n",
       "            max_depth=None, max_features='auto', max_leaf_nodes=None,\n",
       "            min_impurity_decrease=0.0, min_impurity_split=None,\n",
       "            min_samples_leaf=1, min_samples_split=2,\n",
       "            min_weight_fraction_leaf=0.0, n_estimators=23, n_jobs=None,\n",
       "            oob_score=False, random_state=33, verbose=0, warm_start=False),\n",
       "       fit_params=None, iid='warn', n_jobs=None,\n",
       "       param_grid=[{'min_samples_split': [2, 3, 4, 5], 'criterion': ['gini', 'entropy'], 'min_samples_leaf': [1, 2, 3]}],\n",
       "       pre_dispatch='2*n_jobs', refit=True, return_train_score='warn',\n",
       "       scoring='accuracy', verbose=0)"
      ]
     },
     "execution_count": 36,
     "metadata": {},
     "output_type": "execute_result"
    }
   ],
   "source": [
    "# Training the model\n",
    "from sklearn.ensemble import RandomForestClassifier\n",
    "\n",
    "classifier_rfg=RandomForestClassifier(random_state=33,n_estimators=23)\n",
    "parameters=[{'min_samples_split':[2,3,4,5],'criterion':['gini','entropy'],'min_samples_leaf':[1,2,3]}]\n",
    "\n",
    "model_gridrf=GridSearchCV(estimator=classifier_rfg, param_grid=parameters, scoring='accuracy',cv=10)\n",
    "model_gridrf.fit(X_train,y_train)"
   ]
  },
  {
   "cell_type": "code",
   "execution_count": 37,
   "metadata": {},
   "outputs": [
    {
     "data": {
      "text/plain": [
       "{'criterion': 'gini', 'min_samples_leaf': 1, 'min_samples_split': 4}"
      ]
     },
     "execution_count": 37,
     "metadata": {},
     "output_type": "execute_result"
    }
   ],
   "source": [
    "model_gridrf.best_params_"
   ]
  },
  {
   "cell_type": "code",
   "execution_count": 38,
   "metadata": {},
   "outputs": [],
   "source": [
    "# Predicting the model\n",
    "y_predict_rf = model_gridrf.predict(X_test)"
   ]
  },
  {
   "cell_type": "code",
   "execution_count": 39,
   "metadata": {},
   "outputs": [
    {
     "name": "stdout",
     "output_type": "stream",
     "text": [
      "0.9305555555555556\n",
      "              precision    recall  f1-score   support\n",
      "\n",
      "           2       0.92      0.89      0.90        63\n",
      "           3       0.94      0.97      0.96       264\n",
      "           4       0.83      0.73      0.77        33\n",
      "\n",
      "   micro avg       0.93      0.93      0.93       360\n",
      "   macro avg       0.90      0.86      0.88       360\n",
      "weighted avg       0.93      0.93      0.93       360\n",
      "\n"
     ]
    }
   ],
   "source": [
    "# Finding accuracy, precision, recall and confusion matrix\n",
    "print(accuracy_score(y_test,y_predict_rf))\n",
    "print(classification_report(y_test,y_predict_rf))"
   ]
  },
  {
   "cell_type": "code",
   "execution_count": 40,
   "metadata": {},
   "outputs": [
    {
     "data": {
      "text/plain": [
       "array([[ 56,   7,   0],\n",
       "       [  4, 255,   5],\n",
       "       [  1,   8,  24]], dtype=int64)"
      ]
     },
     "execution_count": 40,
     "metadata": {},
     "output_type": "execute_result"
    }
   ],
   "source": [
    "confusion_matrix(y_test,y_predict_rf)"
   ]
  },
  {
   "cell_type": "markdown",
   "metadata": {},
   "source": [
    "## 5. Naive Bayes Bernoulli"
   ]
  },
  {
   "cell_type": "code",
   "execution_count": 41,
   "metadata": {},
   "outputs": [
    {
     "data": {
      "text/plain": [
       "BernoulliNB(alpha=1.0, binarize=0.0, class_prior=None, fit_prior=True)"
      ]
     },
     "execution_count": 41,
     "metadata": {},
     "output_type": "execute_result"
    }
   ],
   "source": [
    "# Training the model\n",
    "from sklearn.naive_bayes import BernoulliNB\n",
    "model_nb = BernoulliNB()\n",
    "model_nb.fit(X_train,y_train)"
   ]
  },
  {
   "cell_type": "code",
   "execution_count": 42,
   "metadata": {},
   "outputs": [],
   "source": [
    "# Predicting the model\n",
    "y_predict_nb = model_nb.predict(X_test)"
   ]
  },
  {
   "cell_type": "code",
   "execution_count": 43,
   "metadata": {},
   "outputs": [
    {
     "name": "stdout",
     "output_type": "stream",
     "text": [
      "0.7944444444444444\n",
      "              precision    recall  f1-score   support\n",
      "\n",
      "           2       0.75      0.48      0.58        63\n",
      "           3       0.80      0.97      0.88       264\n",
      "           4       0.00      0.00      0.00        33\n",
      "\n",
      "   micro avg       0.79      0.79      0.79       360\n",
      "   macro avg       0.52      0.48      0.49       360\n",
      "weighted avg       0.72      0.79      0.74       360\n",
      "\n"
     ]
    }
   ],
   "source": [
    "# Finding accuracy, precision, recall and confusion matrix\n",
    "print(accuracy_score(y_test,y_predict_nb))\n",
    "print(classification_report(y_test,y_predict_nb))"
   ]
  },
  {
   "cell_type": "code",
   "execution_count": 44,
   "metadata": {},
   "outputs": [
    {
     "data": {
      "text/plain": [
       "array([[ 30,  33,   0],\n",
       "       [  8, 256,   0],\n",
       "       [  2,  31,   0]], dtype=int64)"
      ]
     },
     "execution_count": 44,
     "metadata": {},
     "output_type": "execute_result"
    }
   ],
   "source": [
    "confusion_matrix(y_test,y_predict_nb)"
   ]
  },
  {
   "cell_type": "markdown",
   "metadata": {},
   "source": [
    "## 6. K-Nearest Neighbor"
   ]
  },
  {
   "cell_type": "code",
   "execution_count": 45,
   "metadata": {},
   "outputs": [
    {
     "data": {
      "text/plain": [
       "KNeighborsClassifier(algorithm='auto', leaf_size=30, metric='euclidean',\n",
       "           metric_params=None, n_jobs=None, n_neighbors=10, p=2,\n",
       "           weights='uniform')"
      ]
     },
     "execution_count": 45,
     "metadata": {},
     "output_type": "execute_result"
    }
   ],
   "source": [
    "# Training the model\n",
    "from sklearn.neighbors import KNeighborsClassifier\n",
    "model_knn = KNeighborsClassifier(n_neighbors=10,metric='euclidean') # Maximum accuracy for n=10\n",
    "model_knn.fit(X_train,y_train)"
   ]
  },
  {
   "cell_type": "code",
   "execution_count": 46,
   "metadata": {},
   "outputs": [],
   "source": [
    "# Predicting the model\n",
    "y_predict_knn = model_knn.predict(X_test)"
   ]
  },
  {
   "cell_type": "code",
   "execution_count": 47,
   "metadata": {},
   "outputs": [
    {
     "name": "stdout",
     "output_type": "stream",
     "text": [
      "0.8333333333333334\n",
      "              precision    recall  f1-score   support\n",
      "\n",
      "           2       0.74      0.59      0.65        63\n",
      "           3       0.85      0.94      0.90       264\n",
      "           4       0.78      0.42      0.55        33\n",
      "\n",
      "   micro avg       0.83      0.83      0.83       360\n",
      "   macro avg       0.79      0.65      0.70       360\n",
      "weighted avg       0.83      0.83      0.82       360\n",
      "\n"
     ]
    }
   ],
   "source": [
    "# Finding accuracy, precision, recall and confusion matrix\n",
    "print(accuracy_score(y_test,y_predict_knn))\n",
    "print(classification_report(y_test,y_predict_knn))"
   ]
  },
  {
   "cell_type": "code",
   "execution_count": 48,
   "metadata": {},
   "outputs": [
    {
     "data": {
      "text/plain": [
       "array([[ 37,  25,   1],\n",
       "       [ 12, 249,   3],\n",
       "       [  1,  18,  14]], dtype=int64)"
      ]
     },
     "execution_count": 48,
     "metadata": {},
     "output_type": "execute_result"
    }
   ],
   "source": [
    "confusion_matrix(y_test,y_predict_knn)"
   ]
  },
  {
   "cell_type": "markdown",
   "metadata": {},
   "source": [
    "## 7. XGBoost Classifier"
   ]
  },
  {
   "cell_type": "code",
   "execution_count": 49,
   "metadata": {},
   "outputs": [
    {
     "data": {
      "text/plain": [
       "XGBClassifier(base_score=0.5, booster='gbtree', colsample_bylevel=1,\n",
       "       colsample_bytree=1, gamma=0, learning_rate=0.1, max_delta_step=0,\n",
       "       max_depth=3, min_child_weight=1, missing=None, n_estimators=100,\n",
       "       n_jobs=1, nthread=None, objective='multi:softprob', random_state=0,\n",
       "       reg_alpha=0, reg_lambda=1, scale_pos_weight=1, seed=None,\n",
       "       silent=True, subsample=1)"
      ]
     },
     "execution_count": 49,
     "metadata": {},
     "output_type": "execute_result"
    }
   ],
   "source": [
    "# Training the model\n",
    "from xgboost import XGBClassifier\n",
    "model_xgb = XGBClassifier()\n",
    "model_xgb.fit(X_train,y_train)"
   ]
  },
  {
   "cell_type": "code",
   "execution_count": 50,
   "metadata": {},
   "outputs": [],
   "source": [
    "# Predicting the model\n",
    "y_predict_xgb = model_xgb.predict(X_test)"
   ]
  },
  {
   "cell_type": "code",
   "execution_count": 51,
   "metadata": {},
   "outputs": [
    {
     "name": "stdout",
     "output_type": "stream",
     "text": [
      "0.9277777777777778\n",
      "              precision    recall  f1-score   support\n",
      "\n",
      "           2       0.90      0.87      0.89        63\n",
      "           3       0.94      0.96      0.95       264\n",
      "           4       0.83      0.76      0.79        33\n",
      "\n",
      "   micro avg       0.93      0.93      0.93       360\n",
      "   macro avg       0.89      0.86      0.88       360\n",
      "weighted avg       0.93      0.93      0.93       360\n",
      "\n"
     ]
    }
   ],
   "source": [
    "# Finding accuracy, precision, recall and confusion matrix\n",
    "print(accuracy_score(y_test,y_predict_xgb))\n",
    "print(classification_report(y_test,y_predict_xgb))"
   ]
  },
  {
   "cell_type": "code",
   "execution_count": 52,
   "metadata": {},
   "outputs": [
    {
     "data": {
      "text/plain": [
       "array([[ 55,   8,   0],\n",
       "       [  5, 254,   5],\n",
       "       [  1,   7,  25]], dtype=int64)"
      ]
     },
     "execution_count": 52,
     "metadata": {},
     "output_type": "execute_result"
    }
   ],
   "source": [
    "confusion_matrix(y_test,y_predict_xgb)"
   ]
  },
  {
   "cell_type": "markdown",
   "metadata": {},
   "source": [
    "## 8. Artificial Neural Network"
   ]
  },
  {
   "cell_type": "code",
   "execution_count": 53,
   "metadata": {},
   "outputs": [
    {
     "data": {
      "text/plain": [
       "MLPClassifier(activation='relu', alpha=0.0001, batch_size=10, beta_1=0.9,\n",
       "       beta_2=0.999, early_stopping=False, epsilon=1e-08,\n",
       "       hidden_layer_sizes=(100, 100, 100), learning_rate='constant',\n",
       "       learning_rate_init=0.01, max_iter=2000, momentum=0.9,\n",
       "       n_iter_no_change=10, nesterovs_momentum=True, power_t=0.5,\n",
       "       random_state=10, shuffle=True, solver='adam', tol=0.0001,\n",
       "       validation_fraction=0.1, verbose=False, warm_start=False)"
      ]
     },
     "execution_count": 53,
     "metadata": {},
     "output_type": "execute_result"
    }
   ],
   "source": [
    "# Training the model\n",
    "from sklearn.neural_network import MLPClassifier\n",
    "model_mlp = MLPClassifier(hidden_layer_sizes=(100,100,100),batch_size=10,learning_rate_init=0.01,max_iter=2000,random_state=10)\n",
    "model_mlp.fit(X_train,y_train)"
   ]
  },
  {
   "cell_type": "code",
   "execution_count": 54,
   "metadata": {},
   "outputs": [],
   "source": [
    "# Predicting the model\n",
    "y_predict_mlp = model_mlp.predict(X_test)"
   ]
  },
  {
   "cell_type": "code",
   "execution_count": 55,
   "metadata": {},
   "outputs": [
    {
     "name": "stdout",
     "output_type": "stream",
     "text": [
      "0.9111111111111111\n",
      "              precision    recall  f1-score   support\n",
      "\n",
      "           2       0.84      0.83      0.83        63\n",
      "           3       0.94      0.95      0.95       264\n",
      "           4       0.83      0.73      0.77        33\n",
      "\n",
      "   micro avg       0.91      0.91      0.91       360\n",
      "   macro avg       0.87      0.84      0.85       360\n",
      "weighted avg       0.91      0.91      0.91       360\n",
      "\n"
     ]
    }
   ],
   "source": [
    "# Finding accuracy, precision, recall and confusion matrix\n",
    "print(accuracy_score(y_test,y_predict_mlp))\n",
    "print(classification_report(y_test,y_predict_mlp))"
   ]
  },
  {
   "cell_type": "code",
   "execution_count": 56,
   "metadata": {},
   "outputs": [
    {
     "data": {
      "text/plain": [
       "array([[ 52,  10,   1],\n",
       "       [  8, 252,   4],\n",
       "       [  2,   7,  24]], dtype=int64)"
      ]
     },
     "execution_count": 56,
     "metadata": {},
     "output_type": "execute_result"
    }
   ],
   "source": [
    "confusion_matrix(y_test,y_predict_mlp)"
   ]
  },
  {
   "cell_type": "code",
   "execution_count": 57,
   "metadata": {},
   "outputs": [
    {
     "data": {
      "text/plain": [
       "['INX_Future_Inc.ml']"
      ]
     },
     "execution_count": 57,
     "metadata": {},
     "output_type": "execute_result"
    }
   ],
   "source": [
    "# Exporting the trained model\n",
    "from sklearn.externals import joblib\n",
    "joblib.dump(model_gridrf,'INX_Future_Inc.ml')"
   ]
  }
 ],
 "metadata": {
  "kernelspec": {
   "display_name": "Python 3 (ipykernel)",
   "language": "python",
   "name": "python3"
  },
  "language_info": {
   "codemirror_mode": {
    "name": "ipython",
    "version": 3
   },
   "file_extension": ".py",
   "mimetype": "text/x-python",
   "name": "python",
   "nbconvert_exporter": "python",
   "pygments_lexer": "ipython3",
   "version": "3.10.9"
  }
 },
 "nbformat": 4,
 "nbformat_minor": 2
}
